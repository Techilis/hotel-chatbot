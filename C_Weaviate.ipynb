{
 "cells": [
  {
   "cell_type": "markdown",
   "metadata": {},
   "source": [
    "### 1. Set up Weaviate"
   ]
  },
  {
   "cell_type": "code",
   "execution_count": 2,
   "metadata": {},
   "outputs": [
    {
     "name": "stdout",
     "output_type": "stream",
     "text": [
      "Name: protobuf\n",
      "Version: 3.20.3\n",
      "Summary: Protocol Buffers\n",
      "Home-page: https://developers.google.com/protocol-buffers/\n",
      "Author: \n",
      "Author-email: \n",
      "License: BSD-3-Clause\n",
      "Location: c:\\Users\\ong_z\\AppData\\Local\\Programs\\Python\\Python311\\Lib\\site-packages\n",
      "Requires: \n",
      "Required-by: google-api-core, googleapis-common-protos, grpcio-health-checking, grpcio-status, grpcio-tools, mediapipe, mlflow-skinny, onnxruntime, opentelemetry-proto, proto-plus, pyabsa, ray, streamlit, tb-nightly, tensorboard, tensorboardX, tensorflow-datasets, tensorflow-intel, tensorflow-metadata, tf_nightly_intel\n",
      "Note: you may need to restart the kernel to use updated packages.\n"
     ]
    },
    {
     "name": "stderr",
     "output_type": "stream",
     "text": [
      "WARNING: Ignoring invalid distribution ~ransformers (c:\\Users\\ong_z\\AppData\\Local\\Programs\\Python\\Python311\\Lib\\site-packages)\n"
     ]
    }
   ],
   "source": [
    "pip show protobuf"
   ]
  },
  {
   "cell_type": "code",
   "execution_count": 14,
   "metadata": {},
   "outputs": [],
   "source": [
    "import pandas as pd\n",
    "import json\n",
    "import re\n",
    "import ast\n",
    "from tqdm import tqdm\n",
    "from transformers import pipeline, AutoTokenizer\n",
    "import numpy as np\n",
    "import matplotlib.pyplot as plt\n",
    "import seaborn as sns\n",
    "import pickle\n",
    "\n",
    "from weaviate import Client\n",
    "from weaviate.classes.init import Auth\n",
    "from weaviate.classes.config import DataType, Property, ReferenceProperty, VectorDistances\n",
    "from weaviate.classes.query import QueryReference\n",
    "import weaviate.classes as wvc\n",
    "from weaviate.classes.config import Configure\n",
    "from weaviate.collections.classes.filters import Filter\n",
    "\n",
    "from tqdm import tqdm\n",
    "\n",
    "import warnings\n",
    "warnings.filterwarnings(\"ignore\")"
   ]
  },
  {
   "cell_type": "code",
   "execution_count": 15,
   "metadata": {},
   "outputs": [],
   "source": [
    "property_df_flat = pd.read_csv('property_df_flat.csv')\n",
    "review_chunks = pd.read_csv('review_chunks_with_sentiment_embeddings.csv')\n",
    "hotel_topic_summary = pd.read_csv('topic_sentiment_hotel_summary.csv')"
   ]
  },
  {
   "cell_type": "code",
   "execution_count": 16,
   "metadata": {},
   "outputs": [
    {
     "name": "stdout",
     "output_type": "stream",
     "text": [
      "✅ Client ready: {'HotelTopicSummary': _CollectionConfigSimple(name='HotelTopicSummary', description=None, generative_config=None, properties=[_Property(name='hotel_name', description=None, data_type=<DataType.TEXT: 'text'>, index_filterable=True, index_range_filters=False, index_searchable=True, nested_properties=None, tokenization=<Tokenization.WORD: 'word'>, vectorizer_config=None, vectorizer='none', vectorizer_configs=None), _Property(name='main_topic_category', description=None, data_type=<DataType.TEXT: 'text'>, index_filterable=True, index_range_filters=False, index_searchable=True, nested_properties=None, tokenization=<Tokenization.WORD: 'word'>, vectorizer_config=None, vectorizer='none', vectorizer_configs=None), _Property(name='sub_topic_category', description=None, data_type=<DataType.TEXT: 'text'>, index_filterable=True, index_range_filters=False, index_searchable=True, nested_properties=None, tokenization=<Tokenization.WORD: 'word'>, vectorizer_config=None, vectorizer='none', vectorizer_configs=None), _Property(name='positive_count', description=None, data_type=<DataType.INT: 'int'>, index_filterable=True, index_range_filters=False, index_searchable=False, nested_properties=None, tokenization=None, vectorizer_config=None, vectorizer='none', vectorizer_configs=None), _Property(name='negative_count', description=None, data_type=<DataType.INT: 'int'>, index_filterable=True, index_range_filters=False, index_searchable=False, nested_properties=None, tokenization=None, vectorizer_config=None, vectorizer='none', vectorizer_configs=None), _Property(name='total_count', description=None, data_type=<DataType.INT: 'int'>, index_filterable=True, index_range_filters=False, index_searchable=False, nested_properties=None, tokenization=None, vectorizer_config=None, vectorizer='none', vectorizer_configs=None), _Property(name='positive_sentiment_ratio', description=None, data_type=<DataType.NUMBER: 'number'>, index_filterable=True, index_range_filters=False, index_searchable=False, nested_properties=None, tokenization=None, vectorizer_config=None, vectorizer='none', vectorizer_configs=None)], references=[_ReferenceProperty(name='hotel', description=None, target_collections=['Hotel'])], reranker_config=None, vectorizer_config=None, vectorizer=<Vectorizers.NONE: 'none'>, vector_config=None), 'ReviewChunk': _CollectionConfigSimple(name='ReviewChunk', description=None, generative_config=None, properties=[_Property(name='review_id', description=None, data_type=<DataType.NUMBER: 'number'>, index_filterable=True, index_range_filters=False, index_searchable=False, nested_properties=None, tokenization=None, vectorizer_config=None, vectorizer='none', vectorizer_configs=None), _Property(name='chunk_id', description=None, data_type=<DataType.TEXT: 'text'>, index_filterable=True, index_range_filters=False, index_searchable=True, nested_properties=None, tokenization=<Tokenization.WORD: 'word'>, vectorizer_config=None, vectorizer='none', vectorizer_configs=None), _Property(name='hotel_name', description=None, data_type=<DataType.TEXT: 'text'>, index_filterable=True, index_range_filters=False, index_searchable=True, nested_properties=None, tokenization=<Tokenization.WORD: 'word'>, vectorizer_config=None, vectorizer='none', vectorizer_configs=None), _Property(name='review_score', description=None, data_type=<DataType.NUMBER: 'number'>, index_filterable=True, index_range_filters=False, index_searchable=False, nested_properties=None, tokenization=None, vectorizer_config=None, vectorizer='none', vectorizer_configs=None), _Property(name='sentiment', description=None, data_type=<DataType.TEXT: 'text'>, index_filterable=True, index_range_filters=False, index_searchable=True, nested_properties=None, tokenization=<Tokenization.WORD: 'word'>, vectorizer_config=None, vectorizer='none', vectorizer_configs=None), _Property(name='chunk_text', description=None, data_type=<DataType.TEXT: 'text'>, index_filterable=True, index_range_filters=False, index_searchable=True, nested_properties=None, tokenization=<Tokenization.WORD: 'word'>, vectorizer_config=None, vectorizer='none', vectorizer_configs=None), _Property(name='reviewer_name', description=None, data_type=<DataType.TEXT: 'text'>, index_filterable=True, index_range_filters=False, index_searchable=True, nested_properties=None, tokenization=<Tokenization.WORD: 'word'>, vectorizer_config=None, vectorizer='none', vectorizer_configs=None), _Property(name='reviewer_country', description=None, data_type=<DataType.TEXT: 'text'>, index_filterable=True, index_range_filters=False, index_searchable=True, nested_properties=None, tokenization=<Tokenization.WORD: 'word'>, vectorizer_config=None, vectorizer='none', vectorizer_configs=None), _Property(name='review_room_name', description=None, data_type=<DataType.TEXT: 'text'>, index_filterable=True, index_range_filters=False, index_searchable=True, nested_properties=None, tokenization=<Tokenization.WORD: 'word'>, vectorizer_config=None, vectorizer='none', vectorizer_configs=None), _Property(name='review_num_nights', description=None, data_type=<DataType.INT: 'int'>, index_filterable=True, index_range_filters=False, index_searchable=False, nested_properties=None, tokenization=None, vectorizer_config=None, vectorizer='none', vectorizer_configs=None), _Property(name='review_stay_date', description=None, data_type=<DataType.TEXT: 'text'>, index_filterable=True, index_range_filters=False, index_searchable=True, nested_properties=None, tokenization=<Tokenization.WORD: 'word'>, vectorizer_config=None, vectorizer='none', vectorizer_configs=None), _Property(name='review_traveler_type', description=None, data_type=<DataType.TEXT: 'text'>, index_filterable=True, index_range_filters=False, index_searchable=True, nested_properties=None, tokenization=<Tokenization.WORD: 'word'>, vectorizer_config=None, vectorizer='none', vectorizer_configs=None)], references=[_ReferenceProperty(name='hotel', description=None, target_collections=['Hotel'])], reranker_config=None, vectorizer_config=None, vectorizer=<Vectorizers.NONE: 'none'>, vector_config=None), 'ReviewChunk_test': _CollectionConfigSimple(name='ReviewChunk_test', description=None, generative_config=None, properties=[_Property(name='review_id', description=None, data_type=<DataType.NUMBER: 'number'>, index_filterable=True, index_range_filters=False, index_searchable=False, nested_properties=None, tokenization=None, vectorizer_config=None, vectorizer='none', vectorizer_configs=None), _Property(name='chunk_id', description=None, data_type=<DataType.TEXT: 'text'>, index_filterable=True, index_range_filters=False, index_searchable=True, nested_properties=None, tokenization=<Tokenization.WORD: 'word'>, vectorizer_config=None, vectorizer='none', vectorizer_configs=None), _Property(name='hotel_name', description=None, data_type=<DataType.TEXT: 'text'>, index_filterable=True, index_range_filters=False, index_searchable=True, nested_properties=None, tokenization=<Tokenization.WORD: 'word'>, vectorizer_config=None, vectorizer='none', vectorizer_configs=None), _Property(name='review_score', description=None, data_type=<DataType.NUMBER: 'number'>, index_filterable=True, index_range_filters=False, index_searchable=False, nested_properties=None, tokenization=None, vectorizer_config=None, vectorizer='none', vectorizer_configs=None), _Property(name='sentiment', description=None, data_type=<DataType.TEXT: 'text'>, index_filterable=True, index_range_filters=False, index_searchable=True, nested_properties=None, tokenization=<Tokenization.WORD: 'word'>, vectorizer_config=None, vectorizer='none', vectorizer_configs=None), _Property(name='chunk_text', description=None, data_type=<DataType.TEXT: 'text'>, index_filterable=True, index_range_filters=False, index_searchable=True, nested_properties=None, tokenization=<Tokenization.WORD: 'word'>, vectorizer_config=None, vectorizer='none', vectorizer_configs=None), _Property(name='reviewer_name', description=None, data_type=<DataType.TEXT: 'text'>, index_filterable=True, index_range_filters=False, index_searchable=True, nested_properties=None, tokenization=<Tokenization.WORD: 'word'>, vectorizer_config=None, vectorizer='none', vectorizer_configs=None), _Property(name='reviewer_country', description=None, data_type=<DataType.TEXT: 'text'>, index_filterable=True, index_range_filters=False, index_searchable=True, nested_properties=None, tokenization=<Tokenization.WORD: 'word'>, vectorizer_config=None, vectorizer='none', vectorizer_configs=None), _Property(name='review_room_name', description=None, data_type=<DataType.TEXT: 'text'>, index_filterable=True, index_range_filters=False, index_searchable=True, nested_properties=None, tokenization=<Tokenization.WORD: 'word'>, vectorizer_config=None, vectorizer='none', vectorizer_configs=None), _Property(name='review_num_nights', description=None, data_type=<DataType.INT: 'int'>, index_filterable=True, index_range_filters=False, index_searchable=False, nested_properties=None, tokenization=None, vectorizer_config=None, vectorizer='none', vectorizer_configs=None), _Property(name='review_stay_date', description=None, data_type=<DataType.TEXT: 'text'>, index_filterable=True, index_range_filters=False, index_searchable=True, nested_properties=None, tokenization=<Tokenization.WORD: 'word'>, vectorizer_config=None, vectorizer='none', vectorizer_configs=None), _Property(name='review_traveler_type', description=None, data_type=<DataType.TEXT: 'text'>, index_filterable=True, index_range_filters=False, index_searchable=True, nested_properties=None, tokenization=<Tokenization.WORD: 'word'>, vectorizer_config=None, vectorizer='none', vectorizer_configs=None)], references=[_ReferenceProperty(name='hotel', description=None, target_collections=['Hotel'])], reranker_config=None, vectorizer_config=None, vectorizer=<Vectorizers.NONE: 'none'>, vector_config=None), 'Hotel_test': _CollectionConfigSimple(name='Hotel_test', description=None, generative_config=None, properties=[_Property(name='hotel_name', description=None, data_type=<DataType.TEXT: 'text'>, index_filterable=True, index_range_filters=False, index_searchable=True, nested_properties=None, tokenization=<Tokenization.WORD: 'word'>, vectorizer_config=None, vectorizer='none', vectorizer_configs=None), _Property(name='hotel_url', description=None, data_type=<DataType.TEXT: 'text'>, index_filterable=True, index_range_filters=False, index_searchable=True, nested_properties=None, tokenization=<Tokenization.WORD: 'word'>, vectorizer_config=None, vectorizer='none', vectorizer_configs=None), _Property(name='original_price', description=None, data_type=<DataType.NUMBER: 'number'>, index_filterable=True, index_range_filters=False, index_searchable=False, nested_properties=None, tokenization=None, vectorizer_config=None, vectorizer='none', vectorizer_configs=None), _Property(name='current_price', description=None, data_type=<DataType.NUMBER: 'number'>, index_filterable=True, index_range_filters=False, index_searchable=False, nested_properties=None, tokenization=None, vectorizer_config=None, vectorizer='none', vectorizer_configs=None), _Property(name='num_reviews', description=None, data_type=<DataType.INT: 'int'>, index_filterable=True, index_range_filters=False, index_searchable=False, nested_properties=None, tokenization=None, vectorizer_config=None, vectorizer='none', vectorizer_configs=None), _Property(name='review_score', description=None, data_type=<DataType.NUMBER: 'number'>, index_filterable=True, index_range_filters=False, index_searchable=False, nested_properties=None, tokenization=None, vectorizer_config=None, vectorizer='none', vectorizer_configs=None), _Property(name='review_label', description=None, data_type=<DataType.TEXT: 'text'>, index_filterable=True, index_range_filters=False, index_searchable=True, nested_properties=None, tokenization=<Tokenization.WORD: 'word'>, vectorizer_config=None, vectorizer='none', vectorizer_configs=None), _Property(name='star_rating', description=None, data_type=<DataType.NUMBER: 'number'>, index_filterable=True, index_range_filters=False, index_searchable=False, nested_properties=None, tokenization=None, vectorizer_config=None, vectorizer='none', vectorizer_configs=None), _Property(name='preferred_partner', description=None, data_type=<DataType.TEXT: 'text'>, index_filterable=True, index_range_filters=False, index_searchable=True, nested_properties=None, tokenization=<Tokenization.WORD: 'word'>, vectorizer_config=None, vectorizer='none', vectorizer_configs=None), _Property(name='sustainability_certified', description=None, data_type=<DataType.TEXT: 'text'>, index_filterable=True, index_range_filters=False, index_searchable=True, nested_properties=None, tokenization=<Tokenization.WORD: 'word'>, vectorizer_config=None, vectorizer='none', vectorizer_configs=None), _Property(name='last_updated', description=None, data_type=<DataType.TEXT: 'text'>, index_filterable=True, index_range_filters=False, index_searchable=True, nested_properties=None, tokenization=<Tokenization.WORD: 'word'>, vectorizer_config=None, vectorizer='none', vectorizer_configs=None), _Property(name='hotel_id', description=None, data_type=<DataType.NUMBER: 'number'>, index_filterable=True, index_range_filters=False, index_searchable=False, nested_properties=None, tokenization=None, vectorizer_config=None, vectorizer='none', vectorizer_configs=None), _Property(name='best_review_score_label', description=None, data_type=<DataType.TEXT: 'text'>, index_filterable=True, index_range_filters=False, index_searchable=True, nested_properties=None, tokenization=<Tokenization.WORD: 'word'>, vectorizer_config=None, vectorizer='none', vectorizer_configs=None), _Property(name='best_review_score_rating', description=None, data_type=<DataType.NUMBER: 'number'>, index_filterable=True, index_range_filters=False, index_searchable=False, nested_properties=None, tokenization=None, vectorizer_config=None, vectorizer='none', vectorizer_configs=None), _Property(name='address', description=None, data_type=<DataType.TEXT: 'text'>, index_filterable=True, index_range_filters=False, index_searchable=True, nested_properties=None, tokenization=<Tokenization.WORD: 'word'>, vectorizer_config=None, vectorizer='none', vectorizer_configs=None), _Property(name='latitude', description=None, data_type=<DataType.NUMBER: 'number'>, index_filterable=True, index_range_filters=False, index_searchable=False, nested_properties=None, tokenization=None, vectorizer_config=None, vectorizer='none', vectorizer_configs=None), _Property(name='longitude', description=None, data_type=<DataType.NUMBER: 'number'>, index_filterable=True, index_range_filters=False, index_searchable=False, nested_properties=None, tokenization=None, vectorizer_config=None, vectorizer='none', vectorizer_configs=None), _Property(name='description', description=None, data_type=<DataType.TEXT: 'text'>, index_filterable=True, index_range_filters=False, index_searchable=True, nested_properties=None, tokenization=<Tokenization.WORD: 'word'>, vectorizer_config=None, vectorizer='none', vectorizer_configs=None), _Property(name='check_in_time', description=None, data_type=<DataType.TEXT: 'text'>, index_filterable=True, index_range_filters=False, index_searchable=True, nested_properties=None, tokenization=<Tokenization.WORD: 'word'>, vectorizer_config=None, vectorizer='none', vectorizer_configs=None), _Property(name='check_out_time', description=None, data_type=<DataType.TEXT: 'text'>, index_filterable=True, index_range_filters=False, index_searchable=True, nested_properties=None, tokenization=<Tokenization.WORD: 'word'>, vectorizer_config=None, vectorizer='none', vectorizer_configs=None), _Property(name='children_policies', description=None, data_type=<DataType.TEXT: 'text'>, index_filterable=True, index_range_filters=False, index_searchable=True, nested_properties=None, tokenization=<Tokenization.WORD: 'word'>, vectorizer_config=None, vectorizer='none', vectorizer_configs=None), _Property(name='age_restriction', description=None, data_type=<DataType.TEXT: 'text'>, index_filterable=True, index_range_filters=False, index_searchable=True, nested_properties=None, tokenization=<Tokenization.WORD: 'word'>, vectorizer_config=None, vectorizer='none', vectorizer_configs=None), _Property(name='smoking_policy', description=None, data_type=<DataType.TEXT: 'text'>, index_filterable=True, index_range_filters=False, index_searchable=True, nested_properties=None, tokenization=<Tokenization.WORD: 'word'>, vectorizer_config=None, vectorizer='none', vectorizer_configs=None), _Property(name='pets_policy', description=None, data_type=<DataType.TEXT: 'text'>, index_filterable=True, index_range_filters=False, index_searchable=True, nested_properties=None, tokenization=<Tokenization.WORD: 'word'>, vectorizer_config=None, vectorizer='none', vectorizer_configs=None), _Property(name='facilities_text', description=None, data_type=<DataType.TEXT: 'text'>, index_filterable=True, index_range_filters=False, index_searchable=True, nested_properties=None, tokenization=<Tokenization.WORD: 'word'>, vectorizer_config=None, vectorizer='none', vectorizer_configs=None), _Property(name='review_scores_text', description=None, data_type=<DataType.TEXT: 'text'>, index_filterable=True, index_range_filters=False, index_searchable=True, nested_properties=None, tokenization=<Tokenization.WORD: 'word'>, vectorizer_config=None, vectorizer='none', vectorizer_configs=None), _Property(name='cot_extra_bed_policies_text', description=None, data_type=<DataType.TEXT: 'text'>, index_filterable=True, index_range_filters=False, index_searchable=True, nested_properties=None, tokenization=<Tokenization.WORD: 'word'>, vectorizer_config=None, vectorizer='none', vectorizer_configs=None), _Property(name='payment_methods_text', description=None, data_type=<DataType.TEXT: 'text'>, index_filterable=True, index_range_filters=False, index_searchable=True, nested_properties=None, tokenization=<Tokenization.WORD: 'word'>, vectorizer_config=None, vectorizer='none', vectorizer_configs=None), _Property(name='room_details_text', description=None, data_type=<DataType.TEXT: 'text'>, index_filterable=True, index_range_filters=False, index_searchable=True, nested_properties=None, tokenization=<Tokenization.WORD: 'word'>, vectorizer_config=None, vectorizer='none', vectorizer_configs=None), _Property(name='surroundings_text', description=None, data_type=<DataType.TEXT: 'text'>, index_filterable=True, index_range_filters=False, index_searchable=True, nested_properties=None, tokenization=<Tokenization.WORD: 'word'>, vectorizer_config=None, vectorizer='none', vectorizer_configs=None)], references=[], reranker_config=None, vectorizer_config=None, vectorizer=<Vectorizers.NONE: 'none'>, vector_config=None), 'HotelReviewTopic': _CollectionConfigSimple(name='HotelReviewTopic', description=None, generative_config=None, properties=[_Property(name='topic_uuid', description=None, data_type=<DataType.TEXT: 'text'>, index_filterable=True, index_range_filters=False, index_searchable=True, nested_properties=None, tokenization=<Tokenization.WORD: 'word'>, vectorizer_config=None, vectorizer='none', vectorizer_configs=None), _Property(name='hotel_name', description=None, data_type=<DataType.TEXT: 'text'>, index_filterable=True, index_range_filters=False, index_searchable=True, nested_properties=None, tokenization=<Tokenization.WORD: 'word'>, vectorizer_config=None, vectorizer='none', vectorizer_configs=None), _Property(name='main_topic_category', description=None, data_type=<DataType.TEXT: 'text'>, index_filterable=True, index_range_filters=False, index_searchable=True, nested_properties=None, tokenization=<Tokenization.WORD: 'word'>, vectorizer_config=None, vectorizer='none', vectorizer_configs=None), _Property(name='sub_topic_category', description=None, data_type=<DataType.TEXT: 'text'>, index_filterable=True, index_range_filters=False, index_searchable=True, nested_properties=None, tokenization=<Tokenization.WORD: 'word'>, vectorizer_config=None, vectorizer='none', vectorizer_configs=None), _Property(name='negative_count', description=None, data_type=<DataType.INT: 'int'>, index_filterable=True, index_range_filters=False, index_searchable=False, nested_properties=None, tokenization=None, vectorizer_config=None, vectorizer='none', vectorizer_configs=None), _Property(name='positive_count', description=None, data_type=<DataType.INT: 'int'>, index_filterable=True, index_range_filters=False, index_searchable=False, nested_properties=None, tokenization=None, vectorizer_config=None, vectorizer='none', vectorizer_configs=None), _Property(name='total_count', description=None, data_type=<DataType.INT: 'int'>, index_filterable=True, index_range_filters=False, index_searchable=False, nested_properties=None, tokenization=None, vectorizer_config=None, vectorizer='none', vectorizer_configs=None), _Property(name='positive_sentiment_ratio', description=None, data_type=<DataType.NUMBER: 'number'>, index_filterable=True, index_range_filters=False, index_searchable=False, nested_properties=None, tokenization=None, vectorizer_config=None, vectorizer='none', vectorizer_configs=None)], references=[_ReferenceProperty(name='hotel', description=None, target_collections=['Hotel'])], reranker_config=None, vectorizer_config=None, vectorizer=<Vectorizers.NONE: 'none'>, vector_config=None), 'Hotel': _CollectionConfigSimple(name='Hotel', description=None, generative_config=None, properties=[_Property(name='hotel_name', description=None, data_type=<DataType.TEXT: 'text'>, index_filterable=True, index_range_filters=False, index_searchable=True, nested_properties=None, tokenization=<Tokenization.WORD: 'word'>, vectorizer_config=None, vectorizer='none', vectorizer_configs=None), _Property(name='hotel_url', description=None, data_type=<DataType.TEXT: 'text'>, index_filterable=True, index_range_filters=False, index_searchable=True, nested_properties=None, tokenization=<Tokenization.WORD: 'word'>, vectorizer_config=None, vectorizer='none', vectorizer_configs=None), _Property(name='original_price', description=None, data_type=<DataType.NUMBER: 'number'>, index_filterable=True, index_range_filters=False, index_searchable=False, nested_properties=None, tokenization=None, vectorizer_config=None, vectorizer='none', vectorizer_configs=None), _Property(name='current_price', description=None, data_type=<DataType.NUMBER: 'number'>, index_filterable=True, index_range_filters=False, index_searchable=False, nested_properties=None, tokenization=None, vectorizer_config=None, vectorizer='none', vectorizer_configs=None), _Property(name='num_reviews', description=None, data_type=<DataType.INT: 'int'>, index_filterable=True, index_range_filters=False, index_searchable=False, nested_properties=None, tokenization=None, vectorizer_config=None, vectorizer='none', vectorizer_configs=None), _Property(name='review_score', description=None, data_type=<DataType.NUMBER: 'number'>, index_filterable=True, index_range_filters=False, index_searchable=False, nested_properties=None, tokenization=None, vectorizer_config=None, vectorizer='none', vectorizer_configs=None), _Property(name='review_label', description=None, data_type=<DataType.TEXT: 'text'>, index_filterable=True, index_range_filters=False, index_searchable=True, nested_properties=None, tokenization=<Tokenization.WORD: 'word'>, vectorizer_config=None, vectorizer='none', vectorizer_configs=None), _Property(name='star_rating', description=None, data_type=<DataType.NUMBER: 'number'>, index_filterable=True, index_range_filters=False, index_searchable=False, nested_properties=None, tokenization=None, vectorizer_config=None, vectorizer='none', vectorizer_configs=None), _Property(name='preferred_partner', description=None, data_type=<DataType.TEXT: 'text'>, index_filterable=True, index_range_filters=False, index_searchable=True, nested_properties=None, tokenization=<Tokenization.WORD: 'word'>, vectorizer_config=None, vectorizer='none', vectorizer_configs=None), _Property(name='sustainability_certified', description=None, data_type=<DataType.TEXT: 'text'>, index_filterable=True, index_range_filters=False, index_searchable=True, nested_properties=None, tokenization=<Tokenization.WORD: 'word'>, vectorizer_config=None, vectorizer='none', vectorizer_configs=None), _Property(name='last_updated', description=None, data_type=<DataType.TEXT: 'text'>, index_filterable=True, index_range_filters=False, index_searchable=True, nested_properties=None, tokenization=<Tokenization.WORD: 'word'>, vectorizer_config=None, vectorizer='none', vectorizer_configs=None), _Property(name='hotel_id', description=None, data_type=<DataType.NUMBER: 'number'>, index_filterable=True, index_range_filters=False, index_searchable=False, nested_properties=None, tokenization=None, vectorizer_config=None, vectorizer='none', vectorizer_configs=None), _Property(name='best_review_score_label', description=None, data_type=<DataType.TEXT: 'text'>, index_filterable=True, index_range_filters=False, index_searchable=True, nested_properties=None, tokenization=<Tokenization.WORD: 'word'>, vectorizer_config=None, vectorizer='none', vectorizer_configs=None), _Property(name='best_review_score_rating', description=None, data_type=<DataType.NUMBER: 'number'>, index_filterable=True, index_range_filters=False, index_searchable=False, nested_properties=None, tokenization=None, vectorizer_config=None, vectorizer='none', vectorizer_configs=None), _Property(name='address', description=None, data_type=<DataType.TEXT: 'text'>, index_filterable=True, index_range_filters=False, index_searchable=True, nested_properties=None, tokenization=<Tokenization.WORD: 'word'>, vectorizer_config=None, vectorizer='none', vectorizer_configs=None), _Property(name='latitude', description=None, data_type=<DataType.NUMBER: 'number'>, index_filterable=True, index_range_filters=False, index_searchable=False, nested_properties=None, tokenization=None, vectorizer_config=None, vectorizer='none', vectorizer_configs=None), _Property(name='longitude', description=None, data_type=<DataType.NUMBER: 'number'>, index_filterable=True, index_range_filters=False, index_searchable=False, nested_properties=None, tokenization=None, vectorizer_config=None, vectorizer='none', vectorizer_configs=None), _Property(name='description', description=None, data_type=<DataType.TEXT: 'text'>, index_filterable=True, index_range_filters=False, index_searchable=True, nested_properties=None, tokenization=<Tokenization.WORD: 'word'>, vectorizer_config=None, vectorizer='none', vectorizer_configs=None), _Property(name='check_in_time', description=None, data_type=<DataType.TEXT: 'text'>, index_filterable=True, index_range_filters=False, index_searchable=True, nested_properties=None, tokenization=<Tokenization.WORD: 'word'>, vectorizer_config=None, vectorizer='none', vectorizer_configs=None), _Property(name='check_out_time', description=None, data_type=<DataType.TEXT: 'text'>, index_filterable=True, index_range_filters=False, index_searchable=True, nested_properties=None, tokenization=<Tokenization.WORD: 'word'>, vectorizer_config=None, vectorizer='none', vectorizer_configs=None), _Property(name='children_policies', description=None, data_type=<DataType.TEXT: 'text'>, index_filterable=True, index_range_filters=False, index_searchable=True, nested_properties=None, tokenization=<Tokenization.WORD: 'word'>, vectorizer_config=None, vectorizer='none', vectorizer_configs=None), _Property(name='age_restriction', description=None, data_type=<DataType.TEXT: 'text'>, index_filterable=True, index_range_filters=False, index_searchable=True, nested_properties=None, tokenization=<Tokenization.WORD: 'word'>, vectorizer_config=None, vectorizer='none', vectorizer_configs=None), _Property(name='smoking_policy', description=None, data_type=<DataType.TEXT: 'text'>, index_filterable=True, index_range_filters=False, index_searchable=True, nested_properties=None, tokenization=<Tokenization.WORD: 'word'>, vectorizer_config=None, vectorizer='none', vectorizer_configs=None), _Property(name='pets_policy', description=None, data_type=<DataType.TEXT: 'text'>, index_filterable=True, index_range_filters=False, index_searchable=True, nested_properties=None, tokenization=<Tokenization.WORD: 'word'>, vectorizer_config=None, vectorizer='none', vectorizer_configs=None), _Property(name='facilities_text', description=None, data_type=<DataType.TEXT: 'text'>, index_filterable=True, index_range_filters=False, index_searchable=True, nested_properties=None, tokenization=<Tokenization.WORD: 'word'>, vectorizer_config=None, vectorizer='none', vectorizer_configs=None), _Property(name='review_scores_text', description=None, data_type=<DataType.TEXT: 'text'>, index_filterable=True, index_range_filters=False, index_searchable=True, nested_properties=None, tokenization=<Tokenization.WORD: 'word'>, vectorizer_config=None, vectorizer='none', vectorizer_configs=None), _Property(name='cot_extra_bed_policies_text', description=None, data_type=<DataType.TEXT: 'text'>, index_filterable=True, index_range_filters=False, index_searchable=True, nested_properties=None, tokenization=<Tokenization.WORD: 'word'>, vectorizer_config=None, vectorizer='none', vectorizer_configs=None), _Property(name='payment_methods_text', description=None, data_type=<DataType.TEXT: 'text'>, index_filterable=True, index_range_filters=False, index_searchable=True, nested_properties=None, tokenization=<Tokenization.WORD: 'word'>, vectorizer_config=None, vectorizer='none', vectorizer_configs=None), _Property(name='room_details_text', description=None, data_type=<DataType.TEXT: 'text'>, index_filterable=True, index_range_filters=False, index_searchable=True, nested_properties=None, tokenization=<Tokenization.WORD: 'word'>, vectorizer_config=None, vectorizer='none', vectorizer_configs=None), _Property(name='surroundings_text', description=None, data_type=<DataType.TEXT: 'text'>, index_filterable=True, index_range_filters=False, index_searchable=True, nested_properties=None, tokenization=<Tokenization.WORD: 'word'>, vectorizer_config=None, vectorizer='none', vectorizer_configs=None)], references=[], reranker_config=None, vectorizer_config=None, vectorizer=<Vectorizers.NONE: 'none'>, vector_config=None)}\n"
     ]
    }
   ],
   "source": [
    "import weaviate\n",
    "\n",
    "client = weaviate.connect_to_custom(\n",
    "    http_host=\"34.87.173.122\",\n",
    "    http_port=8080,\n",
    "    http_secure=False,\n",
    "    grpc_host=\"34.87.173.122\",\n",
    "    grpc_port=50051,\n",
    "    grpc_secure=False,\n",
    "    skip_init_checks=True\n",
    ")\n",
    "\n",
    "print(\"✅ Client ready:\", client.collections.list_all())\n"
   ]
  },
  {
   "cell_type": "markdown",
   "metadata": {},
   "source": [
    "### 2. Create Schema"
   ]
  },
  {
   "cell_type": "code",
   "execution_count": null,
   "metadata": {},
   "outputs": [],
   "source": [
    "# Clean up old collections (optional)\n",
    "# if client.collections.exists(\"Hotel\"):\n",
    "#     client.collections.delete(\"Hotel\")\n",
    "\n",
    "# if client.collections.exists(\"ReviewChunk\"):\n",
    "#     client.collections.delete(\"ReviewChunk\")\n",
    "\n",
    "# if client.collections.exists(\"HotelTopicSummary\"):\n",
    "#     client.collections.delete(\"HotelTopicSummary\")"
   ]
  },
  {
   "cell_type": "code",
   "execution_count": 32,
   "metadata": {},
   "outputs": [
    {
     "data": {
      "text/plain": [
       "<weaviate.collections.collection.sync.Collection at 0x211b8e3a080>"
      ]
     },
     "execution_count": 32,
     "metadata": {},
     "output_type": "execute_result"
    }
   ],
   "source": [
    "# Create collections\n",
    "# ✅ Hotel Collection\n",
    "client.collections.create(\n",
    "    name=\"Hotel\",\n",
    "    properties=[\n",
    "        Property(name=\"hotel_name\", data_type=DataType.TEXT, skip_vectorization=True),\n",
    "        Property(name=\"hotel_url\", data_type=DataType.TEXT, skip_vectorization=True),\n",
    "        Property(name=\"original_price\", data_type=DataType.NUMBER, skip_vectorization=True),\n",
    "        Property(name=\"current_price\", data_type=DataType.NUMBER, skip_vectorization=True),\n",
    "        Property(name=\"num_reviews\", data_type=DataType.INT, skip_vectorization=True),\n",
    "        Property(name=\"review_score\", data_type=DataType.NUMBER, skip_vectorization=True),\n",
    "        Property(name=\"review_label\", data_type=DataType.TEXT, skip_vectorization=True),\n",
    "        Property(name=\"star_rating\", data_type=DataType.NUMBER, skip_vectorization=True),\n",
    "        Property(name=\"preferred_partner\", data_type=DataType.TEXT, skip_vectorization=True),\n",
    "        Property(name=\"sustainability_certified\", data_type=DataType.TEXT, skip_vectorization=True),\n",
    "        Property(name=\"last_updated\", data_type=DataType.TEXT, skip_vectorization=True),\n",
    "        Property(name=\"hotel_id\", data_type=DataType.NUMBER, skip_vectorization=True),\n",
    "        Property(name=\"best_review_score_label\", data_type=DataType.TEXT, skip_vectorization=True),\n",
    "        Property(name=\"best_review_score_rating\", data_type=DataType.NUMBER, skip_vectorization=True),\n",
    "        Property(name=\"address\", data_type=DataType.TEXT, skip_vectorization=True),\n",
    "        Property(name=\"latitude\", data_type=DataType.NUMBER, skip_vectorization=True),\n",
    "        Property(name=\"longitude\", data_type=DataType.NUMBER, skip_vectorization=True),\n",
    "        Property(name=\"description\", data_type=DataType.TEXT),\n",
    "        Property(name=\"check_in_time\", data_type=DataType.TEXT, skip_vectorization=True),\n",
    "        Property(name=\"check_out_time\", data_type=DataType.TEXT, skip_vectorization=True),\n",
    "        Property(name=\"children_policies\", data_type=DataType.TEXT, skip_vectorization=True),\n",
    "        Property(name=\"age_restriction\", data_type=DataType.TEXT, skip_vectorization=True),\n",
    "        Property(name=\"smoking_policy\", data_type=DataType.TEXT, skip_vectorization=True),\n",
    "        Property(name=\"pets_policy\", data_type=DataType.TEXT, skip_vectorization=True),\n",
    "        Property(name=\"facilities_text\", data_type=DataType.TEXT),\n",
    "        Property(name=\"review_scores_text\", data_type=DataType.TEXT, skip_vectorization=True),\n",
    "        Property(name=\"cot_extra_bed_policies_text\", data_type=DataType.TEXT, skip_vectorization=True),\n",
    "        Property(name=\"payment_methods_text\", data_type=DataType.TEXT, skip_vectorization=True),\n",
    "        Property(name=\"room_details_text\", data_type=DataType.TEXT, skip_vectorization=True),\n",
    "        Property(name=\"surroundings_text\", data_type=DataType.TEXT),\n",
    "    ],\n",
    "    vector_index_config=Configure.VectorIndex.hnsw(distance_metric=VectorDistances.COSINE),\n",
    "    inverted_index_config=Configure.inverted_index(index_property_length=True),\n",
    ")\n",
    "\n",
    "# ✅ ReviewChunk Collection\n",
    "client.collections.create(\n",
    "    name=\"ReviewChunk\",\n",
    "    properties=[\n",
    "        Property(name=\"review_id\", data_type=DataType.NUMBER, skip_vectorization=True),\n",
    "        Property(name=\"chunk_id\", data_type=DataType.TEXT, skip_vectorization=True),\n",
    "        Property(name=\"hotel_name\", data_type=DataType.TEXT, skip_vectorization=True),\n",
    "        Property(name=\"review_score\", data_type=DataType.NUMBER, skip_vectorization=True),\n",
    "        Property(name=\"sentiment\", data_type=DataType.TEXT, skip_vectorization=True),\n",
    "        Property(name=\"chunk_text\", data_type=DataType.TEXT),  # ✅ vectorized\n",
    "        Property(name=\"reviewer_name\", data_type=DataType.TEXT, skip_vectorization=True),\n",
    "        Property(name=\"reviewer_country\", data_type=DataType.TEXT, skip_vectorization=True),\n",
    "        Property(name=\"review_room_name\", data_type=DataType.TEXT, skip_vectorization=True),\n",
    "        Property(name=\"review_num_nights\", data_type=DataType.INT, skip_vectorization=True),\n",
    "        Property(name=\"review_stay_date\", data_type=DataType.TEXT, skip_vectorization=True),\n",
    "        Property(name=\"review_traveler_type\", data_type=DataType.TEXT, skip_vectorization=True)\n",
    "    ],\n",
    "    references=[\n",
    "        ReferenceProperty(name=\"hotel\", target_collection=\"Hotel\")\n",
    "    ],\n",
    "    vector_index_config=Configure.VectorIndex.hnsw(distance_metric=VectorDistances.COSINE),\n",
    "    inverted_index_config=Configure.inverted_index(index_property_length=True),\n",
    ")\n"
   ]
  },
  {
   "cell_type": "code",
   "execution_count": 19,
   "metadata": {},
   "outputs": [
    {
     "data": {
      "application/vnd.microsoft.datawrangler.viewer.v0+json": {
       "columns": [
        {
         "name": "index",
         "rawType": "int64",
         "type": "integer"
        },
        {
         "name": "hotel_name",
         "rawType": "object",
         "type": "string"
        },
        {
         "name": "main_topic_category",
         "rawType": "object",
         "type": "string"
        },
        {
         "name": "sub_topic_category",
         "rawType": "object",
         "type": "string"
        },
        {
         "name": "negative_count",
         "rawType": "int64",
         "type": "integer"
        },
        {
         "name": "positive_count",
         "rawType": "int64",
         "type": "integer"
        },
        {
         "name": "total_count",
         "rawType": "int64",
         "type": "integer"
        },
        {
         "name": "positive_sentiment_ratio",
         "rawType": "float64",
         "type": "float"
        },
        {
         "name": "bayesian_score",
         "rawType": "float64",
         "type": "float"
        }
       ],
       "conversionMethod": "pd.DataFrame",
       "ref": "115ff428-4424-452f-bee8-eebb12d8c8b9",
       "rows": [
        [
         "0",
         "30 Bencoolen",
         "amenities",
         "accessibility",
         "1",
         "3",
         "4",
         "0.75",
         "0.4955227519560254"
        ],
        [
         "1",
         "30 Bencoolen",
         "amenities",
         "in_room",
         "7",
         "0",
         "7",
         "0.0",
         "0.1409774436090225"
        ],
        [
         "2",
         "30 Bencoolen",
         "amenities",
         "leisure",
         "35",
         "46",
         "81",
         "0.5679012345679012",
         "0.6284647803355301"
        ],
        [
         "3",
         "30 Bencoolen",
         "amenities",
         "tech",
         "6",
         "3",
         "9",
         "0.3333333333333333",
         "0.1439256711942436"
        ],
        [
         "4",
         "30 Bencoolen",
         "bathroom",
         "bathroom_cleanliness",
         "9",
         "1",
         "10",
         "0.1",
         "0.0837807606263982"
        ]
       ],
       "shape": {
        "columns": 8,
        "rows": 5
       }
      },
      "text/html": [
       "<div>\n",
       "<style scoped>\n",
       "    .dataframe tbody tr th:only-of-type {\n",
       "        vertical-align: middle;\n",
       "    }\n",
       "\n",
       "    .dataframe tbody tr th {\n",
       "        vertical-align: top;\n",
       "    }\n",
       "\n",
       "    .dataframe thead th {\n",
       "        text-align: right;\n",
       "    }\n",
       "</style>\n",
       "<table border=\"1\" class=\"dataframe\">\n",
       "  <thead>\n",
       "    <tr style=\"text-align: right;\">\n",
       "      <th></th>\n",
       "      <th>hotel_name</th>\n",
       "      <th>main_topic_category</th>\n",
       "      <th>sub_topic_category</th>\n",
       "      <th>negative_count</th>\n",
       "      <th>positive_count</th>\n",
       "      <th>total_count</th>\n",
       "      <th>positive_sentiment_ratio</th>\n",
       "      <th>bayesian_score</th>\n",
       "    </tr>\n",
       "  </thead>\n",
       "  <tbody>\n",
       "    <tr>\n",
       "      <th>0</th>\n",
       "      <td>30 Bencoolen</td>\n",
       "      <td>amenities</td>\n",
       "      <td>accessibility</td>\n",
       "      <td>1</td>\n",
       "      <td>3</td>\n",
       "      <td>4</td>\n",
       "      <td>0.750000</td>\n",
       "      <td>0.495523</td>\n",
       "    </tr>\n",
       "    <tr>\n",
       "      <th>1</th>\n",
       "      <td>30 Bencoolen</td>\n",
       "      <td>amenities</td>\n",
       "      <td>in_room</td>\n",
       "      <td>7</td>\n",
       "      <td>0</td>\n",
       "      <td>7</td>\n",
       "      <td>0.000000</td>\n",
       "      <td>0.140977</td>\n",
       "    </tr>\n",
       "    <tr>\n",
       "      <th>2</th>\n",
       "      <td>30 Bencoolen</td>\n",
       "      <td>amenities</td>\n",
       "      <td>leisure</td>\n",
       "      <td>35</td>\n",
       "      <td>46</td>\n",
       "      <td>81</td>\n",
       "      <td>0.567901</td>\n",
       "      <td>0.628465</td>\n",
       "    </tr>\n",
       "    <tr>\n",
       "      <th>3</th>\n",
       "      <td>30 Bencoolen</td>\n",
       "      <td>amenities</td>\n",
       "      <td>tech</td>\n",
       "      <td>6</td>\n",
       "      <td>3</td>\n",
       "      <td>9</td>\n",
       "      <td>0.333333</td>\n",
       "      <td>0.143926</td>\n",
       "    </tr>\n",
       "    <tr>\n",
       "      <th>4</th>\n",
       "      <td>30 Bencoolen</td>\n",
       "      <td>bathroom</td>\n",
       "      <td>bathroom_cleanliness</td>\n",
       "      <td>9</td>\n",
       "      <td>1</td>\n",
       "      <td>10</td>\n",
       "      <td>0.100000</td>\n",
       "      <td>0.083781</td>\n",
       "    </tr>\n",
       "  </tbody>\n",
       "</table>\n",
       "</div>"
      ],
      "text/plain": [
       "     hotel_name main_topic_category    sub_topic_category  negative_count  \\\n",
       "0  30 Bencoolen           amenities         accessibility               1   \n",
       "1  30 Bencoolen           amenities               in_room               7   \n",
       "2  30 Bencoolen           amenities               leisure              35   \n",
       "3  30 Bencoolen           amenities                  tech               6   \n",
       "4  30 Bencoolen            bathroom  bathroom_cleanliness               9   \n",
       "\n",
       "   positive_count  total_count  positive_sentiment_ratio  bayesian_score  \n",
       "0               3            4                  0.750000        0.495523  \n",
       "1               0            7                  0.000000        0.140977  \n",
       "2              46           81                  0.567901        0.628465  \n",
       "3               3            9                  0.333333        0.143926  \n",
       "4               1           10                  0.100000        0.083781  "
      ]
     },
     "execution_count": 19,
     "metadata": {},
     "output_type": "execute_result"
    }
   ],
   "source": [
    "hotel_topic_summary.head()"
   ]
  },
  {
   "cell_type": "code",
   "execution_count": 20,
   "metadata": {},
   "outputs": [
    {
     "data": {
      "text/plain": [
       "<weaviate.collections.collection.sync.Collection at 0x232960d0f70>"
      ]
     },
     "execution_count": 20,
     "metadata": {},
     "output_type": "execute_result"
    }
   ],
   "source": [
    "# ✅ HotelTopicSummary Collection\n",
    "client.collections.create(\n",
    "    name=\"HotelTopicSummary\",\n",
    "    properties=[\n",
    "        Property(name=\"hotel_name\", data_type=DataType.TEXT, skip_vectorization=True),\n",
    "        Property(name=\"main_topic_category\", data_type=DataType.TEXT, skip_vectorization=True),\n",
    "        Property(name=\"sub_topic_category\", data_type=DataType.TEXT, skip_vectorization=True),\n",
    "        Property(name=\"positive_count\", data_type=DataType.INT, skip_vectorization=True),\n",
    "        Property(name=\"negative_count\", data_type=DataType.INT, skip_vectorization=True),\n",
    "        Property(name=\"total_count\", data_type=DataType.INT, skip_vectorization=True),\n",
    "        Property(name=\"positive_sentiment_ratio\", data_type=DataType.NUMBER, skip_vectorization=True),\n",
    "        Property(name=\"bayesian_score\", data_type=DataType.NUMBER, skip_vectorization=True),\n",
    "    ],\n",
    "    references=[\n",
    "        ReferenceProperty(name=\"hotel\", target_collection=\"Hotel\")\n",
    "    ],\n",
    "    vector_index_config=Configure.VectorIndex.hnsw(distance_metric=VectorDistances.COSINE),\n",
    "    inverted_index_config=Configure.inverted_index(index_property_length=True),\n",
    ")"
   ]
  },
  {
   "cell_type": "markdown",
   "metadata": {},
   "source": [
    "### 3. Upload Data"
   ]
  },
  {
   "cell_type": "code",
   "execution_count": 33,
   "metadata": {},
   "outputs": [
    {
     "name": "stderr",
     "output_type": "stream",
     "text": [
      "  0%|          | 0/444 [00:00<?, ?it/s]"
     ]
    },
    {
     "name": "stderr",
     "output_type": "stream",
     "text": [
      "100%|██████████| 444/444 [00:25<00:00, 17.12it/s]\n"
     ]
    }
   ],
   "source": [
    "# Upload Hotel Objects\n",
    "hotel_collection = client.collections.get(\"Hotel\")\n",
    "hotel_name_to_uuid = {}\n",
    "\n",
    "for _, row in tqdm(property_df_flat.iterrows(), total=len(property_df_flat)):\n",
    "    try:\n",
    "        hotel_obj = row.dropna().to_dict()\n",
    "        # Insert the hotel and store the returned UUID\n",
    "        uuid = hotel_collection.data.insert(hotel_obj)\n",
    "        hotel_name_to_uuid[row[\"hotel_name\"]] = uuid\n",
    "    except Exception as e:\n",
    "        print(f\"❌ Failed to upload hotel: {row.get('hotel_name', '[unknown]')}, error: {e}\")\n"
   ]
  },
  {
   "cell_type": "code",
   "execution_count": 34,
   "metadata": {},
   "outputs": [],
   "source": [
    "# Save the mapping of hotel names to UUIDs\n",
    "\n",
    "hotel_name_to_uuid_str = {k: str(v) for k, v in hotel_name_to_uuid.items()}\n",
    "\n",
    "with open(\"hotel_name_to_uuid.json\", \"w\") as f:\n",
    "    json.dump(hotel_name_to_uuid_str, f)\n"
   ]
  },
  {
   "cell_type": "code",
   "execution_count": null,
   "metadata": {},
   "outputs": [
    {
     "data": {
      "text/plain": [
       "2933"
      ]
     },
     "execution_count": 35,
     "metadata": {},
     "output_type": "execute_result"
    }
   ],
   "source": [
    "# Prepare ReviewChunk Data\n",
    "review_chunks = pd.read_csv('review_chunks_with_sentiment_embeddings.csv')\n",
    "\n",
    "def parse_numpy_string(s):\n",
    "    return np.fromstring(s.strip(\"[]\"), sep=\" \").tolist()\n",
    "\n",
    "review_chunks[\"embedding\"] = review_chunks[\"embedding\"].apply(parse_numpy_string)"
   ]
  },
  {
   "cell_type": "code",
   "execution_count": 36,
   "metadata": {},
   "outputs": [
    {
     "name": "stderr",
     "output_type": "stream",
     "text": [
      " 30%|██▉       | 87666/293302 [1:21:21<951:55:34, 16.67s/it]"
     ]
    },
    {
     "name": "stdout",
     "output_type": "stream",
     "text": [
      "❌ Failed to upload review chunk 55026_Negative_0 — Server disconnected without sending a response.\n"
     ]
    },
    {
     "name": "stderr",
     "output_type": "stream",
     "text": [
      " 30%|██▉       | 87668/293302 [1:21:56<909:48:20, 15.93s/it] "
     ]
    },
    {
     "name": "stdout",
     "output_type": "stream",
     "text": [
      "❌ Failed to upload review chunk 55027_Positive_0 — Server disconnected without sending a response.\n"
     ]
    },
    {
     "name": "stderr",
     "output_type": "stream",
     "text": [
      " 58%|█████▊    | 169941/293302 [2:36:38<544:08:47, 15.88s/it]"
     ]
    },
    {
     "name": "stdout",
     "output_type": "stream",
     "text": [
      "❌ Failed to upload review chunk 106960_Negative_0 — \n"
     ]
    },
    {
     "name": "stderr",
     "output_type": "stream",
     "text": [
      " 86%|████████▌ | 252241/293302 [3:56:40<192:45:10, 16.90s/it]"
     ]
    },
    {
     "name": "stdout",
     "output_type": "stream",
     "text": [
      "❌ Failed to upload review chunk 159376_Negative_0 — \n"
     ]
    },
    {
     "name": "stderr",
     "output_type": "stream",
     "text": [
      " 86%|████████▌ | 252242/293302 [3:57:17<240:00:24, 21.04s/it]"
     ]
    },
    {
     "name": "stdout",
     "output_type": "stream",
     "text": [
      "❌ Failed to upload review chunk 159377_Positive_0 — \n"
     ]
    },
    {
     "name": "stderr",
     "output_type": "stream",
     "text": [
      "100%|██████████| 293302/293302 [4:35:59<00:00, 17.71it/s]    \n"
     ]
    }
   ],
   "source": [
    "# Upload ReviewChunk Objects\n",
    "\n",
    "review_collection = client.collections.get(\"ReviewChunk\")\n",
    "\n",
    "for _, row in tqdm(review_chunks.iterrows(), total=len(review_chunks)):\n",
    "    try:\n",
    "        hotel_name = row[\"hotel_name\"]\n",
    "        hotel_uuid = hotel_name_to_uuid.get(hotel_name)\n",
    "\n",
    "        if not hotel_uuid:\n",
    "            print(f\"⚠️ Skipping chunk {row['chunk_id']} — hotel not found: {hotel_name}\")\n",
    "            continue\n",
    "\n",
    "        embedding = row[\"embedding\"]  \n",
    "\n",
    "        review_obj = row.drop(labels=[\"embedding\"]).dropna().to_dict()\n",
    "\n",
    "        review_uuid = review_collection.data.insert(\n",
    "            properties=review_obj,\n",
    "            vector=embedding\n",
    "        )\n",
    "\n",
    "        review_collection.data.reference_add(\n",
    "            from_uuid=review_uuid,\n",
    "            from_property=\"hotel\",\n",
    "            to=hotel_uuid\n",
    "        )\n",
    "\n",
    "    except Exception as e:\n",
    "        print(f\"❌ Failed to upload review chunk {row.get('chunk_id', '[unknown]')} — {e}\")\n"
   ]
  },
  {
   "cell_type": "code",
   "execution_count": 21,
   "metadata": {},
   "outputs": [
    {
     "name": "stderr",
     "output_type": "stream",
     "text": [
      "100%|██████████| 8362/8362 [05:22<00:00, 25.94it/s]\n"
     ]
    }
   ],
   "source": [
    "# Upload HotelTopicSummary Objects\n",
    "topic_summary_collection = client.collections.get(\"HotelTopicSummary\")\n",
    "\n",
    "# Open and read the file\n",
    "with open(\"hotel_name_to_uuid.json\", \"r\") as f:\n",
    "    hotel_name_to_uuid = json.load(f)\n",
    "\n",
    "# Loop over each row in your pivoted DataFrame\n",
    "for _, row in tqdm(hotel_topic_summary.iterrows(), total=len(hotel_topic_summary)):\n",
    "    try:\n",
    "        hotel_name = row[\"hotel_name\"]\n",
    "        hotel_uuid = hotel_name_to_uuid.get(hotel_name)\n",
    "\n",
    "        if not hotel_uuid:\n",
    "            print(f\"⚠️ Skipping topic summary — hotel not found: {hotel_name}\")\n",
    "            continue\n",
    "\n",
    "        topic_obj = row.to_dict()\n",
    "\n",
    "        # Insert into Weaviate\n",
    "        topic_uuid = topic_summary_collection.data.insert(\n",
    "            properties=topic_obj)\n",
    "\n",
    "        # Add reference to the parent Hotel object\n",
    "        topic_summary_collection.data.reference_add(\n",
    "            from_uuid=topic_uuid,\n",
    "            from_property=\"hotel\",\n",
    "            to=hotel_uuid\n",
    "        )\n",
    "\n",
    "    except Exception as e:\n",
    "        print(f\"❌ Failed to upload topic summary for hotel '{hotel_name}' — {e}\")\n"
   ]
  },
  {
   "cell_type": "markdown",
   "metadata": {},
   "source": [
    "### 4. Test Queries"
   ]
  },
  {
   "cell_type": "code",
   "execution_count": 41,
   "metadata": {},
   "outputs": [
    {
     "data": {
      "text/plain": [
       "[Object(uuid=_WeaviateUUIDInt('3863b424-4c96-43d8-a182-9bc433aec2d9'), metadata=MetadataReturn(creation_time=None, last_update_time=None, distance=None, certainty=None, score=None, explain_score=None, is_consistent=None, rerank_score=None), properties={'hotel_name': 'Rest Chinatown Hotel', 'description': \"Rest Chinatown Hotel is located a 5-minute walk from Chinatown MRT Station. Its modern rooms offer free WiFi, large projector screen and safety deposit boxes.\\n\\nLocated near to Temple and Smith Street, Rest Chinatown Hotel sits along Trengganu Street, a 5-minute drive from nightlife options in Clarke Quay. A train ride from Orchard Road shopping belt is a 10-minute journey away.\\n\\nThe modern rooms at Rest Chinatown Hotel come with in-room tea/coffee making facilities. En suite bathrooms offer toiletries and hot shower facilities.\\n\\nIn the hotel's shared area there is a coffee machine.\", 'current_price': 166.0, 'star_rating': 3.0}, references=None, vector={}, collection='Hotel')]"
      ]
     },
     "execution_count": 41,
     "metadata": {},
     "output_type": "execute_result"
    }
   ],
   "source": [
    "# Test example 1 - Use chunk_id (Review collection) to retrieve details of Hotel collection\n",
    "\n",
    "review_collection = client.collections.get(\"ReviewChunk\")\n",
    "\n",
    "results = review_collection.query.fetch_objects(\n",
    "    filters=Filter.by_property(\"chunk_id\").equal(\"177671_Negative_0\"),\n",
    "    return_references=[\n",
    "        wvc.query.QueryReference(\n",
    "            link_on=\"Hotel\",\n",
    "            return_properties=[\"hotel_name\", \"current_price\", \"star_rating\", \"description\"]\n",
    "        )\n",
    "    ],\n",
    "    include_vector=False,\n",
    "    limit=1\n",
    ")\n",
    "\n",
    "hotel_ref = results.objects[0].references.get(\"hotel\")\n",
    "hotel_ref.objects"
   ]
  },
  {
   "cell_type": "code",
   "execution_count": 42,
   "metadata": {},
   "outputs": [
    {
     "data": {
      "text/plain": [
       "[Object(uuid=_WeaviateUUIDInt('3863b424-4c96-43d8-a182-9bc433aec2d9'), metadata=MetadataReturn(creation_time=None, last_update_time=None, distance=None, certainty=None, score=None, explain_score=None, is_consistent=None, rerank_score=None), properties={'review_scores_text': 'Facilities: 7.6. Cleanliness: 8.0. Comfort: 8.0. Value for money: 7.6. Location: 9.2. Total: 7.6. Free WiFi: 7.8', 'sustainability_certified': 'No', 'check_out_time': 'Until 11:00', 'longitude': 103.84396434, 'last_updated': '18/3/2025 0:56', 'pets_policy': 'Pets are not allowed.', 'best_review_score_rating': 9.2, 'hotel_url': 'https://www.booking.com/hotel/sg/jinshan-hotel.en-gb.html?aid=304142&label=gen173nr-1FCAQoggJCEHNlYXJjaF9zaW5nYXBvcmVICVgEaMkBiAEBmAEJuAEXyAEM2AEB6AEB-AEDiAIBqAIDuAKRp-G-BsACAdICJDc3OGZmNDdhLWUzYmItNDljNi04ZjQ1LTYxZTRkMzA4OWE5Y9gCBeACAQ&ucfs=1&arphpl=1&checkin=2025-04-01&checkout=2025-04-02&group_adults=2&req_adults=2&no_rooms=1&group_children=0&req_children=0&hpos=14&hapos=86&sr_order=popularity&srpvid=525276c8fc03091c&srepoch=1742230431&all_sr_blocks=25835007_141377953_2_0_0&highlighted_blocks=25835007_141377953_2_0_0&matching_block_id=25835007_141377953_2_0_0&sr_pri_blocks=25835007_141377953_2_0_0__16618&from=searchresults', 'num_reviews': 2219, 'original_price': 237.0, 'preferred_partner': 'Yes', 'room_details_text': 'Room: Standard Double Room (No Window), Size: N/A, Features: Hand sanitiser, Safety deposit box, Electric kettle, Air conditioning, Hardwood or parquet floors, Clothes rack, Shower, Towels, Socket near the bed, Hairdryer, Ensuite bathroom, Flat-screen TV, Toilet paper, Free WiFi, Free toiletries, Toilet, Drying rack for clothing, Single-room air conditioning for guest accommodation, Entire unit located on ground floor, Cable channels, Linen, Desk, Cleaning products, Slippers, TV. Room: Superior Double Room, Size: N/A, Features: , Ensuite bathroom, Flat-screen TV, Free WiFi, Air conditioning. Room: Deluxe Family Room, Size: 15 m², Features: , Ensuite bathroom, City view, Flat-screen TV, Free WiFi, Air conditioning. Room: Premier Deluxe Family Quad with Slide, Size: 18 m², Features: , Ensuite bathroom, Flat-screen TV, Free WiFi, Air conditioning', 'age_restriction': 'The minimum age for check-in is 18', 'best_review_score_label': 'Excellent location!', 'hotel_id': 258350.0, 'payment_methods_text': 'Accepted Cards: Visa, Mastercard, UnionPay credit card. Cash Accepted: Yes', 'cot_extra_bed_policies_text': 'availability: Cots and extra beds are not available at this property.', 'description': \"Rest Chinatown Hotel is located a 5-minute walk from Chinatown MRT Station. Its modern rooms offer free WiFi, large projector screen and safety deposit boxes.\\n\\nLocated near to Temple and Smith Street, Rest Chinatown Hotel sits along Trengganu Street, a 5-minute drive from nightlife options in Clarke Quay. A train ride from Orchard Road shopping belt is a 10-minute journey away.\\n\\nThe modern rooms at Rest Chinatown Hotel come with in-room tea/coffee making facilities. En suite bathrooms offer toiletries and hot shower facilities.\\n\\nIn the hotel's shared area there is a coffee machine.\", 'star_rating': 3.0, 'current_price': 166.0, 'check_in_time': 'From 15:00', 'smoking_policy': None, 'children_policies': 'Children of any age are welcome. Children 7 years and above will be charged as adults at this property. To see correct prices and occupancy information, please add the number of children in your group and their ages to your search.', 'hotel_name': 'Rest Chinatown Hotel', 'facilities_text': 'Most popular facilities: Non-smoking rooms, Free WiFi, Family rooms, 24-hour front desk, Lift, Air conditioning, Daily housekeeping, Luggage storage. Bathroom: Toilet paper, Towels, Slippers, Private bathroom, Toilet, Free toiletries, Hairdryer, Shower. Bedroom: Linen. Kitchen: Cleaning products, Electric kettle. Room Amenities: Socket near the bed, Drying rack for clothing, Clothes rack. Media & Technology: Flat-screen TV, Cable channels. Services: Daily housekeeping, Private check-in/check-out, Concierge service, Luggage storage, Fax/photocopying\\nAdditional charge, Tour desk, Express check-in/check-out, 24-hour front desk. Reception services: Invoice provided. Safety & security: Fire extinguishers, CCTV in common areas, Smoke alarms, Key card access, Safety deposit box. General: Air conditioning, Non-smoking throughout, Hardwood or parquet floors, Lift, Family rooms, Non-smoking rooms. Accessibility: Entire unit located on ground floor. Languages spoken: English, Chinese', 'review_label': 'Good', 'surroundings_text': \"What's nearby: Playground, New Bridge Centre (100 m), Duxton Plain Park (150 m), Buddha Tooth Relic Temple and Museum (150 m), Spring Street Car Park (300 m), Level 5 Playground, BLK 335 Smith Street (300 m), WS Jiok (300 m), Tong Lam Club (350 m), Goh Loo Club (350 m), Iu Tiok Club (350 m), Seng Wee Holdings (400 m). Restaurants & cafes: Yum Cha (30 m), Lao Si Chuan (10 m), Yuan Xiang Vegetarian Temple Street (10 m). Top attractions: Singapore City Gallery (450 m), Statue of Sir Stamford Raffles (1.5 km), National Gallery Singapore (1.6 km), Asian Civilisations Museum (1.6 km), Singapore Art Museum (2.1 km), ArtScience Museum (2.4 km), Sands SkyPark Observation Deck (2.5 km), Gardens by the Bay (3 km), Cloud Forest (3.2 km), Marina Barrage (3.6 km). Natural beauty: Marina Reservoir (4.9 km). Beaches in the neighbourhood: Palawan Beach (5 km), Siloso Beach (6 km), Tanjong Beach (6 km), East Coast Beach (7 km). Public transport: Maxwell MRT Station (300 m), Chinatown (350 m), Telok Ayer MRT Station (600 m), Downtown MRT Station (1.2 km). Closest airports: Seletar Airport (17 km), Changi Airport (19 km)\", 'address': '20 Trengganu Street, 3rd Storey, Chinatown, 058479 Singapore, Singapore', 'review_score': 7.6, 'latitude': 1.28279875}, references=None, vector={}, collection='Hotel')]"
      ]
     },
     "execution_count": 42,
     "metadata": {},
     "output_type": "execute_result"
    }
   ],
   "source": [
    "# Test example 2 - Retrieve info from only Hotel collection\n",
    "hotel_collection = client.collections.get(\"Hotel\")\n",
    "\n",
    "# Example: fetch all hotels with a specific name\n",
    "filter_ = Filter.by_property(\"hotel_name\").equal(\"Rest Chinatown Hotel\")\n",
    "\n",
    "results = hotel_collection.query.fetch_objects(filters=filter_, limit=1)\n",
    "results.objects"
   ]
  },
  {
   "cell_type": "code",
   "execution_count": 48,
   "metadata": {},
   "outputs": [
    {
     "name": "stdout",
     "output_type": "stream",
     "text": [
      "Chunk ID: 424_Positive_0\n",
      "Score: 3.0\n",
      "Text: Location is the only positive The location is great. Close to MRT, lots of food options and walking distance to many shopping centres\n",
      "--------------------------------------------------\n",
      "Chunk ID: 424_Negative_0\n",
      "Score: 3.0\n",
      "Text: It was very expensive for a very uncomfortable room. The beds were terrible, they were rock hard which made it impossible to have a good night sleep. The walls were very thin, we could hear everything, at times it was like people were in our room, it was that loud. The bathroom is a wet room, which means when you shower water gets everywhere, plus this meant the bathroom was not clean, mould on the ceiling could be seen. The entire room felt damp the whole stay.\n",
      "--------------------------------------------------\n",
      "Chunk ID: 439_Negative_0\n",
      "Score: 3.0\n",
      "Text: Uncomfortable and claustrophobic. The first room had no window \n",
      "Water was also on all surfaces including the ceiling and walls and a lot on the floorcondensation?? Changed roomsbetter because of it had a window. Very small double bed, hard to regulate the air conditioning so extremely cold all night. Expensive night in a basic small room.\n",
      "--------------------------------------------------\n",
      "Chunk ID: 441_Negative_0\n",
      "Score: 3.0\n",
      "Text: Poor No facilities like room fridge locker to keep your valuable belongings\n",
      "--------------------------------------------------\n",
      "Chunk ID: 458_Negative_0\n",
      "Score: 3.0\n",
      "Text: The room had no window and was like a concrete cell.\n",
      "--------------------------------------------------\n",
      "Chunk ID: 490_Negative_0\n",
      "Score: 3.0\n",
      "Text: Poor Size of the room was shocking\n",
      "--------------------------------------------------\n",
      "Chunk ID: 505_Positive_0\n",
      "Score: 3.0\n",
      "Text: Good location, nice staff, very damp room. The location is great, staff was very nice.\n",
      "--------------------------------------------------\n",
      "Chunk ID: 505_Negative_0\n",
      "Score: 3.0\n",
      "Text: I had a room on the 5th floor which was incredibly damp constant moisture on surfaces which never dried off, despite the dehumidifier Ibis had placed in the room which ran intermittedly. Singapore has very high humidity in general so I was expecting some of this, given that this is a budget hotel category. However, I stayed at an Ibis Budget in Chinatown in November 2022  same room category no window and facilities  which was much drier than the Bugis Ibis Budget. I guess this is to do with the building occupied by Ibis Budget Bugis?\n",
      "--------------------------------------------------\n",
      "Chunk ID: 505_Negative_1\n",
      "Score: 3.0\n",
      "Text: The hotel is clearly aware of the issue see the dehumidifier in the room which my room in Ibis Budget Chinatown did not have but the excessive dampness still felt very uncomfortable.\n",
      "--------------------------------------------------\n",
      "Chunk ID: 509_Positive_0\n",
      "Score: 3.0\n",
      "Text: Great location very basic accommodation Great location perfectly placed for getting about all of Singapores main sites\n",
      "--------------------------------------------------\n",
      "Chunk ID: 509_Negative_0\n",
      "Score: 3.0\n",
      "Text: Tiny and very basic room. The shower was cold and the bathroom really small\n",
      "--------------------------------------------------\n",
      "Chunk ID: 511_Negative_0\n",
      "Score: 3.0\n",
      "Text: Perfect location but VERY small room and terrible mattress VERY HORRIBLE Mattress, the room is super small, there is no place for luggage, shower is super small\n",
      "--------------------------------------------------\n",
      "Chunk ID: 534_Positive_0\n",
      "Score: 3.0\n",
      "Text: good customer service .pls kpt it\n",
      "--------------------------------------------------\n",
      "Chunk ID: 534_Negative_0\n",
      "Score: 3.0\n",
      "Text: the bed Mayb not so clean ,toilet bowl some time can’t flush well Im was feeling body itchy after slp on bed  couldnt slp well  my mom feel that also\n",
      "--------------------------------------------------\n",
      "Chunk ID: 579_Positive_0\n",
      "Score: 3.0\n",
      "Text: good location, water dispenser available, friendly staff\n",
      "--------------------------------------------------\n",
      "Chunk ID: 579_Negative_0\n",
      "Score: 3.0\n",
      "Text: Do not recommend No pick up or drop off point, which is not a problem if you take public transport. No bidet in the bathroom,\n",
      "the showerhead angle is not adjustable. Stained bedsheets, and worse I got bitten by bed bugs!\n",
      "--------------------------------------------------\n",
      "Chunk ID: 592_Positive_0\n",
      "Score: 3.0\n",
      "Text: Staff response to the problem of bedbugs, location was excellent.\n",
      "--------------------------------------------------\n",
      "Chunk ID: 592_Negative_0\n",
      "Score: 3.0\n",
      "Text: Great location, very convenient to Bugis MRT but had bedbugs One of the beds on the 19th May had bedbugs which is not the level of cleanliness we expected from Ibis  budget or not . Amenities were very basis, room very cramped, towel was very thin.\n",
      "--------------------------------------------------\n",
      "Chunk ID: 606_Positive_0\n",
      "Score: 3.0\n",
      "Text: Average We loved the location of the apartments.\n",
      "--------------------------------------------------\n",
      "Chunk ID: 606_Negative_0\n",
      "Score: 3.0\n",
      "Text: We didnt like the fact it did not have a window, shower was over the toilet and the bed was the hardest mattress. We got our room clear and no new toilet paper was provided.\n",
      "--------------------------------------------------\n",
      "Chunk ID: 618_Positive_0\n",
      "Score: 3.0\n",
      "Text: The lady at the reception counter was very helpful and welcoming. Room was clean\n",
      "--------------------------------------------------\n",
      "Chunk ID: 618_Negative_0\n",
      "Score: 3.0\n",
      "Text: Poor Room was very small. Other major cons The combined bath and toilet.\n",
      "--------------------------------------------------\n",
      "Chunk ID: 620_Positive_0\n",
      "Score: 3.0\n",
      "Text: No separate shower room. No separate drinking water facility. Room size is very small.\n",
      "--------------------------------------------------\n",
      "Chunk ID: 621_Positive_0\n",
      "Score: 3.0\n",
      "Text: Location was good\n",
      "WiFi was good\n",
      "--------------------------------------------------\n",
      "Chunk ID: 621_Negative_0\n",
      "Score: 3.0\n",
      "Text: Poor The room was very small\n",
      "Bathroom was really small and shower was over toilet\n",
      "--------------------------------------------------\n",
      "Chunk ID: 623_Positive_0\n",
      "Score: 3.0\n",
      "Text: Great location, however damp and smelly room The location, easy check in process, nice and helpful staff\n",
      "--------------------------------------------------\n",
      "Chunk ID: 623_Negative_0\n",
      "Score: 3.0\n",
      "Text: Due to the no window in the room the walls were completely soaked from the condensation and all our clothes ended up getting damp which wasnt what we needed before a 13 hour flight. There is no ventilation so the room is just constantly damp and moist. I feel like this room is expensive for what youre getting,\n",
      "--------------------------------------------------\n",
      "Chunk ID: 628_Negative_0\n",
      "Score: 3.0\n",
      "Text: Poor Because of no window, room and bed are damp.\n",
      "--------------------------------------------------\n",
      "Chunk ID: 633_Positive_0\n",
      "Score: 3.0\n",
      "Text: Good location close to shops, MRT stations, restaurants\n",
      "--------------------------------------------------\n",
      "Chunk ID: 633_Negative_0\n",
      "Score: 3.0\n",
      "Text: Uncomfortable stay The room was small and way too humid. According to the hotel staff, if you adjust the temperature to 23 degree, the floor will become very wet and slippery. But its cold if the room temperature is below 23 degree.\n",
      "--------------------------------------------------\n",
      "Chunk ID: 636_Negative_0\n",
      "Score: 3.0\n",
      "Text: worst hotel ever room is super small and dark price is too high for such hotel room is small dark no windows\n",
      "no proper shower\n",
      "no connexion in the room\n",
      "no soap to wash hands\n",
      "air conditioning too high and noisy\n",
      "--------------------------------------------------\n",
      "Chunk ID: 637_Positive_0\n",
      "Score: 3.0\n",
      "Text: Good location, friendly staff, but overall would not recommend. Staff were very friendly and helpful. Good location for a short work trip, easy to connect to key areas.\n",
      "--------------------------------------------------\n",
      "Chunk ID: 637_Negative_0\n",
      "Score: 3.0\n",
      "Text: Cigarette fumes get through air con into rooms. I changed rooms after I felt it for the first time, but the issue persisted in the new room. Impossible to ventilate the smell because there arent any windows so you just have to turn air con off and sleep in a show box smelling like ashtray. Room 108 means you hear the door bell from 7eleven next door every time someone enters the shop. The shop is open 24 hours.\n",
      "--------------------------------------------------\n",
      "Chunk ID: 651_Negative_0\n",
      "Score: 3.0\n",
      "Text: the shower pemprature was like 30. Couldnt close the bathroom door, it was broken.\n",
      "--------------------------------------------------\n",
      "Chunk ID: 652_Negative_0\n",
      "Score: 3.0\n",
      "Text: Poor The bedsheets and towels have seen much better days\n",
      "--------------------------------------------------\n",
      "Chunk ID: 654_Positive_0\n",
      "Score: 3.0\n",
      "Text: The location of this hotel\n",
      "--------------------------------------------------\n",
      "Chunk ID: 654_Negative_0\n",
      "Score: 3.0\n",
      "Text: Won't come back again The cleanliness. There are leaking from ceiling, floor like didnt mop and dirty. One of the pillow having bad sweating smell.\n",
      "--------------------------------------------------\n",
      "Chunk ID: 655_Positive_0\n",
      "Score: 3.0\n",
      "Text: The rooms are so tiny\n",
      "--------------------------------------------------\n",
      "Chunk ID: 655_Negative_0\n",
      "Score: 3.0\n",
      "Text: Poor Small rooms have no place to put baggage\n",
      "--------------------------------------------------\n",
      "Chunk ID: 658_Negative_0\n",
      "Score: 3.0\n",
      "Text: Poor The room was very small and dull\n",
      "--------------------------------------------------\n",
      "Chunk ID: 665_Negative_0\n",
      "Score: 3.0\n",
      "Text: Poor A huge lack of hygiene.\n",
      "--------------------------------------------------\n",
      "Chunk ID: 672_Positive_0\n",
      "Score: 3.0\n",
      "Text: I booked Ibis Hotel intend to stay at Bencoolen Street ...I DID NOT KNOW HAS A SMALLER hotel in Middle Rd...v confusing ...felt cheated frustrating ...Ibis Middle Road Room is so tiny in size ....with that price BETTER FOR ME to check into HOTEL 81 !!!\n",
      "--------------------------------------------------\n",
      "Chunk ID: 672_Negative_0\n",
      "Score: 3.0\n",
      "Text: frustrating being misled into wrong location\n",
      "--------------------------------------------------\n",
      "Chunk ID: 1120_Positive_0\n",
      "Score: 3.0\n",
      "Text: Location was good and big rooms\n",
      "--------------------------------------------------\n",
      "Chunk ID: 1120_Negative_0\n",
      "Score: 3.0\n",
      "Text: Don't stay 1. Only proving to drink water was with glass bottle with a lid which had black mould. 2. No windows inspite of taking premiere double room\n",
      "3. Constant noise due to construction ongoing next doors\n",
      "4. Buffet breakfast was very very average with poor taste\n",
      "5. Receptiom Staff named Padmini was informed about check out 24 hours before. She insisted that the hotel will pack breakfast for my early morning flight. So I did not make alternate arrangements. However next day early morning during my checkout no arrangements has been made. The entire set off reception staff were scamming me the previous day only to get good reviews in Trip Advisor which they were insisting to write 1 day before check out\n",
      "Last..\n",
      "--------------------------------------------------\n",
      "Chunk ID: 1120_Negative_1\n",
      "Score: 3.0\n",
      "Text: The pillows were too high and hard.\n",
      "--------------------------------------------------\n",
      "Chunk ID: 1146_Negative_0\n",
      "Score: 3.0\n",
      "Text: Bad WiFi connection and breakfast. The WiFi connection was astonishingly unstable. The breakfast was expensive yet very simple.\n",
      "--------------------------------------------------\n",
      "Chunk ID: 1218_Negative_0\n",
      "Score: 3.0\n",
      "Text: Disappointed Came here cos of good reviews but now i really wonder how the good reviews came from. Front desk service charged me for the room upon check in although i repeated shared my app screen that my booking had been paid when i booked online. Staff then brushed me off saying i can go to my room and can come down again if theres any issues. I had to login to my bank account to proof that i have made payment before staff reverse the additional payment. Bathroom had ramnants of used materials e.g. Trash, toothpaste from previous guest. Bathroom door is not working well. Sink drainage is slow. Room is not soundproof.\n",
      "--------------------------------------------------\n",
      "Chunk ID: 1218_Negative_1\n",
      "Score: 3.0\n",
      "Text: I can hear everything from conversations next room, bar music downstairs and i was aruptly awoken from sleep from door slaming. The WiFi is spotty so cant watch steaming from it. TV reception is not clear. The rooms and corridors are old and rundown. The room door often stuck when i try to open. I think the security function of main door on the floor was switched off as well. Bedsheets has some light stains. Fridge is not cold even for drinks although the instructions on fridge states it was kept at 8 to 12 degrees Celsius. Ive stayed in other 4 stars hotels before. But this is certainly not 4 stars standard. I had actually wanted to check out the moment i checked in.\n",
      "--------------------------------------------------\n",
      "Chunk ID: 1220_Negative_0\n",
      "Score: 3.0\n",
      "Text: Poor stay with loud noisy hear from room until midnigt, old building, old toilet. There is a bar or karaok on the 1st floor which is very loud and can hear from the room clearly until midnight. Can not sleep at all, especially when we travel with kids is not easy at all. The breakfast not good neither.\n",
      "--------------------------------------------------\n"
     ]
    }
   ],
   "source": [
    "# Test example 3 - Retrieve info from only Review collection\n",
    "review_collection = client.collections.get(\"ReviewChunk\")\n",
    "\n",
    "# Example: fetch reviews with score lower or equal to 8\n",
    "filter_ = Filter.by_property(\"review_score\").equal(3)\n",
    "\n",
    "results = review_collection.query.fetch_objects(filters=filter_, limit=50)\n",
    "\n",
    "for obj in results.objects:\n",
    "    print(f\"Chunk ID: {obj.properties.get('chunk_id')}\")\n",
    "    print(f\"Score: {obj.properties.get('review_score')}\")\n",
    "    print(f\"Text: {obj.properties.get('chunk_text')}\")\n",
    "    print(\"-\" * 50)\n"
   ]
  },
  {
   "cell_type": "code",
   "execution_count": 13,
   "metadata": {},
   "outputs": [
    {
     "name": "stdout",
     "output_type": "stream",
     "text": [
      "Hotel Name: 30 Bencoolen\n",
      "Positive Sentiment Ratio: 0.75\n",
      "--------------------------------------------------\n",
      "Hotel Name: 7 Wonders Boutique Capsule\n",
      "Positive Sentiment Ratio: 0.75\n",
      "--------------------------------------------------\n",
      "Hotel Name: 7 Wonders Hostel @ Boat Quay\n",
      "Positive Sentiment Ratio: 0.5714285714285714\n",
      "--------------------------------------------------\n",
      "Hotel Name: 7 Wonders Hostel at Upper Dickson\n",
      "Positive Sentiment Ratio: 0.375\n",
      "--------------------------------------------------\n",
      "Hotel Name: A Hotel Joo Chiat\n",
      "Positive Sentiment Ratio: 1.0\n",
      "--------------------------------------------------\n",
      "Hotel Name: AMOY by Far East Hospitality\n",
      "Positive Sentiment Ratio: 0.0\n",
      "--------------------------------------------------\n",
      "Hotel Name: Aerotel Singapore - Transit Hotel in Terminal 1\n",
      "Positive Sentiment Ratio: 0.7777777777777778\n",
      "--------------------------------------------------\n",
      "Hotel Name: Ambassador Transit Hotel - Terminal 3\n",
      "Positive Sentiment Ratio: 1.0\n",
      "--------------------------------------------------\n",
      "Hotel Name: Ambassador Transit Lounge Terminal 2\n",
      "Positive Sentiment Ratio: 1.0\n",
      "--------------------------------------------------\n",
      "Hotel Name: Ambassador Transit Lounge Terminal 3\n",
      "Positive Sentiment Ratio: 0.75\n",
      "--------------------------------------------------\n",
      "Hotel Name: Amrise Hotel Kitchener, Check In 9PM, Check Out 8AM\n",
      "Positive Sentiment Ratio: 1.0\n",
      "--------------------------------------------------\n",
      "Hotel Name: Amrise Hotel, Check in at 10PM, Check out at 9AM\n",
      "Positive Sentiment Ratio: 0.0\n",
      "--------------------------------------------------\n",
      "Hotel Name: Andaz Singapore, By Hyatt\n",
      "Positive Sentiment Ratio: 0.2\n",
      "--------------------------------------------------\n",
      "Hotel Name: Aqueen Hotel Paya Lebar\n",
      "Positive Sentiment Ratio: 0.0\n",
      "--------------------------------------------------\n",
      "Hotel Name: Aqueen Prestige Hotel Lavender\n",
      "Positive Sentiment Ratio: 1.0\n",
      "--------------------------------------------------\n",
      "Hotel Name: Arcadia Hotel\n",
      "Positive Sentiment Ratio: 1.0\n",
      "--------------------------------------------------\n",
      "Hotel Name: Arena eSports @ Orchard\n",
      "Positive Sentiment Ratio: 0.0\n",
      "--------------------------------------------------\n",
      "Hotel Name: Arena eSports Hotel @ Bugis Village\n",
      "Positive Sentiment Ratio: 0.3529411764705882\n",
      "--------------------------------------------------\n",
      "Hotel Name: Arton Boutique Hotel\n",
      "Positive Sentiment Ratio: 0.0\n",
      "--------------------------------------------------\n",
      "Hotel Name: Ascott Orchard Singapore\n",
      "Positive Sentiment Ratio: 1.0\n",
      "--------------------------------------------------\n",
      "Hotel Name: Ascott Raffles Place Singapore\n",
      "Positive Sentiment Ratio: 1.0\n",
      "--------------------------------------------------\n",
      "Hotel Name: Atelier\n",
      "Positive Sentiment Ratio: 0.0\n",
      "--------------------------------------------------\n",
      "Hotel Name: BEAT Arts Hostel at Chinatown\n",
      "Positive Sentiment Ratio: 0.5833333333333334\n",
      "--------------------------------------------------\n",
      "Hotel Name: BEAT. Capsule Hostel @ Boat Quay\n",
      "Positive Sentiment Ratio: 0.6666666666666666\n",
      "--------------------------------------------------\n",
      "Hotel Name: BEAT. Sports Hostel\n",
      "Positive Sentiment Ratio: 0.2\n",
      "--------------------------------------------------\n",
      "Hotel Name: Backpacker Cozy Corner Guesthouse\n",
      "Positive Sentiment Ratio: 0.2692307692307692\n",
      "--------------------------------------------------\n",
      "Hotel Name: Beary Best! Hostel Chinatown\n",
      "Positive Sentiment Ratio: 0.25\n",
      "--------------------------------------------------\n",
      "Hotel Name: Beary Best! Hostel Kampong Glam\n",
      "Positive Sentiment Ratio: 0.25\n",
      "--------------------------------------------------\n",
      "Hotel Name: Bliss Hotel Singapore\n",
      "Positive Sentiment Ratio: 0.6666666666666666\n",
      "--------------------------------------------------\n",
      "Hotel Name: Bluewaters Collab Quarters\n",
      "Positive Sentiment Ratio: 0.5\n",
      "--------------------------------------------------\n",
      "Hotel Name: Bluewaters Pods 38 Hongkong St\n",
      "Positive Sentiment Ratio: 0.2\n",
      "--------------------------------------------------\n",
      "Hotel Name: COMO Metropolitan Singapore\n",
      "Positive Sentiment Ratio: 0.0\n",
      "--------------------------------------------------\n",
      "Hotel Name: CSW Hostel\n",
      "Positive Sentiment Ratio: 1.0\n",
      "--------------------------------------------------\n",
      "Hotel Name: CUBE Boutique Capsule Hotel at Chinatown\n",
      "Positive Sentiment Ratio: 0.25\n",
      "--------------------------------------------------\n",
      "Hotel Name: CUBE Boutique Capsule Hotel at Kampong Glam\n",
      "Positive Sentiment Ratio: 0.0\n",
      "--------------------------------------------------\n",
      "Hotel Name: CUBE Family Boutique Capsule Hotel at Chinatown\n",
      "Positive Sentiment Ratio: 0.238095238095238\n",
      "--------------------------------------------------\n",
      "Hotel Name: Capri by Fraser China Square, Singapore\n",
      "Positive Sentiment Ratio: 0.6666666666666666\n",
      "--------------------------------------------------\n",
      "Hotel Name: CapsulePod@Aljunied\n",
      "Positive Sentiment Ratio: 0.5\n",
      "--------------------------------------------------\n",
      "Hotel Name: Carlton City Hotel Singapore\n",
      "Positive Sentiment Ratio: 0.3333333333333333\n",
      "--------------------------------------------------\n",
      "Hotel Name: Carlton Hotel Singapore\n",
      "Positive Sentiment Ratio: 0.5217391304347826\n",
      "--------------------------------------------------\n",
      "Hotel Name: Champion Hotel City\n",
      "Positive Sentiment Ratio: 0.3333333333333333\n",
      "--------------------------------------------------\n",
      "Hotel Name: Changi Cove\n",
      "Positive Sentiment Ratio: 0.6666666666666666\n",
      "--------------------------------------------------\n",
      "Hotel Name: Check-Inn at Little India\n",
      "Positive Sentiment Ratio: 0.4\n",
      "--------------------------------------------------\n",
      "Hotel Name: Citadines Connect City Centre Singapore\n",
      "Positive Sentiment Ratio: 0.0\n",
      "--------------------------------------------------\n",
      "Hotel Name: Citadines Rochor Singapore\n",
      "Positive Sentiment Ratio: 0.4090909090909091\n",
      "--------------------------------------------------\n",
      "Hotel Name: Classique Hotel\n",
      "Positive Sentiment Ratio: 0.0\n",
      "--------------------------------------------------\n",
      "Hotel Name: Conrad Centennial Singapore\n",
      "Positive Sentiment Ratio: 0.5\n",
      "--------------------------------------------------\n",
      "Hotel Name: Copthorne King's Hotel Singapore\n",
      "Positive Sentiment Ratio: 0.2\n",
      "--------------------------------------------------\n",
      "Hotel Name: Courtyard by Marriott Singapore Novena\n",
      "Positive Sentiment Ratio: 0.0\n",
      "--------------------------------------------------\n",
      "Hotel Name: Crowne Plaza Changi Airport by IHG\n",
      "Positive Sentiment Ratio: 0.5555555555555556\n",
      "--------------------------------------------------\n"
     ]
    }
   ],
   "source": [
    "# Test example 4 - Retrieve info from only topic_summary_collection\n",
    "topic_summary_collection = client.collections.get(\"HotelTopicSummary\")\n",
    "\n",
    "# Example: fetch reviews with score lower or equal to 8\n",
    "filter_ = Filter.by_property(\"sub_topic_category\").equal(\"accessibility\")\n",
    "\n",
    "results = topic_summary_collection.query.fetch_objects(filters=filter_, limit=50)\n",
    "\n",
    "for obj in results.objects:\n",
    "    print(f\"Hotel Name: {obj.properties.get('hotel_name')}\")\n",
    "    print(f\"Positive Sentiment Ratio: {obj.properties.get('positive_sentiment_ratio')}\")\n",
    "    print(\"-\" * 50)\n"
   ]
  },
  {
   "cell_type": "markdown",
   "metadata": {},
   "source": [
    "### 5. Hybrid RAG Setup"
   ]
  },
  {
   "cell_type": "code",
   "execution_count": 7,
   "metadata": {},
   "outputs": [
    {
     "data": {
      "text/plain": [
       "[Object(uuid=_WeaviateUUIDInt('11e27e86-3fd3-4045-9f7f-11413539acf1'), metadata=MetadataReturn(creation_time=None, last_update_time=None, distance=None, certainty=None, score=0.8570672869682312, explain_score=None, is_consistent=None, rerank_score=None), properties={'hotel_name': 'Marina Bay Sands', 'chunk_id': '70172_Negative_0', 'review_score': 9.0, 'sentiment': 'Negative', 'chunk_text': 'very few vegetarian or vegan options'}, references={'hotel': <weaviate.collections.classes.internal._CrossReference object at 0x000002180B726770>}, vector={}, collection='ReviewChunk'),\n",
       " Object(uuid=_WeaviateUUIDInt('e70f499b-75dc-4390-b653-1d5138632a37'), metadata=MetadataReturn(creation_time=None, last_update_time=None, distance=None, certainty=None, score=0.8546596169471741, explain_score=None, is_consistent=None, rerank_score=None), properties={'hotel_name': 'Hotel Faber Park Singapore - Handwritten Collection', 'sentiment': 'Negative', 'review_score': 10.0, 'chunk_id': '151521_Negative_0', 'chunk_text': 'More vegan options in breakfast'}, references={'hotel': <weaviate.collections.classes.internal._CrossReference object at 0x000002180B726890>}, vector={}, collection='ReviewChunk'),\n",
       " Object(uuid=_WeaviateUUIDInt('94189db0-8b93-4879-8e53-4586faa0d1f4'), metadata=MetadataReturn(creation_time=None, last_update_time=None, distance=None, certainty=None, score=0.832531750202179, explain_score=None, is_consistent=None, rerank_score=None), properties={'hotel_name': 'Marina Bay Sands', 'chunk_id': '69181_Negative_0', 'review_score': 10.0, 'sentiment': 'Negative', 'chunk_text': 'Vegan and vegetarian food choices very little'}, references={'hotel': <weaviate.collections.classes.internal._CrossReference object at 0x000002180B7266E0>}, vector={}, collection='ReviewChunk'),\n",
       " Object(uuid=_WeaviateUUIDInt('5ab829b1-6024-407b-b15c-265b79aa4dbc'), metadata=MetadataReturn(creation_time=None, last_update_time=None, distance=None, certainty=None, score=0.8034069538116455, explain_score=None, is_consistent=None, rerank_score=None), properties={'hotel_name': 'Pan Pacific Singapore', 'sentiment': 'Negative', 'review_score': 8.0, 'chunk_id': '111586_Negative_0', 'chunk_text': 'Very few vegan options in restaurant.'}, references={'hotel': <weaviate.collections.classes.internal._CrossReference object at 0x000002180B724550>}, vector={}, collection='ReviewChunk'),\n",
       " Object(uuid=_WeaviateUUIDInt('6ef486a6-2472-44a2-9cd8-f9438a9fe006'), metadata=MetadataReturn(creation_time=None, last_update_time=None, distance=None, certainty=None, score=0.8034069538116455, explain_score=None, is_consistent=None, rerank_score=None), properties={'hotel_name': 'Pan Pacific Singapore', 'sentiment': 'Negative', 'review_score': 8.0, 'chunk_id': '112523_Negative_0', 'chunk_text': 'Very few vegan options in restaurant.'}, references={'hotel': <weaviate.collections.classes.internal._CrossReference object at 0x000002180B86DA80>}, vector={}, collection='ReviewChunk'),\n",
       " Object(uuid=_WeaviateUUIDInt('c2449ba3-d3f3-4ffe-bf1a-304a7ddc6c28'), metadata=MetadataReturn(creation_time=None, last_update_time=None, distance=None, certainty=None, score=0.7942169308662415, explain_score=None, is_consistent=None, rerank_score=None), properties={'hotel_name': 'Shangri-La Singapore', 'chunk_id': '29059_Negative_0', 'review_score': 10.0, 'sentiment': 'Negative', 'chunk_text': 'Not enough vegan options in the restaurants'}, references={'hotel': <weaviate.collections.classes.internal._CrossReference object at 0x000002180B86DC00>}, vector={}, collection='ReviewChunk'),\n",
       " Object(uuid=_WeaviateUUIDInt('ecec1d76-09b4-4b31-b153-919b9652e8c9'), metadata=MetadataReturn(creation_time=None, last_update_time=None, distance=None, certainty=None, score=0.7694917917251587, explain_score=None, is_consistent=None, rerank_score=None), properties={'hotel_name': 'PARKROYAL COLLECTION Marina Bay, Singapore', 'sentiment': 'Negative', 'review_score': 10.0, 'chunk_id': '99885_Negative_0', 'chunk_text': 'Not enough vegan options in restaurants'}, references={'hotel': <weaviate.collections.classes.internal._CrossReference object at 0x000002180B86DD80>}, vector={}, collection='ReviewChunk'),\n",
       " Object(uuid=_WeaviateUUIDInt('681bef3d-cf7a-42b2-b09b-7bb7fffb9f8a'), metadata=MetadataReturn(creation_time=None, last_update_time=None, distance=None, certainty=None, score=0.7316944599151611, explain_score=None, is_consistent=None, rerank_score=None), properties={'hotel_name': 'Wyndham Singapore Hotel', 'chunk_id': '47534_Negative_0', 'review_score': 8.0, 'sentiment': 'Negative', 'chunk_text': 'little vegan options at breakfast'}, references={'hotel': <weaviate.collections.classes.internal._CrossReference object at 0x000002180B86DF00>}, vector={}, collection='ReviewChunk'),\n",
       " Object(uuid=_WeaviateUUIDInt('8a919e78-8f11-4551-be8a-d0628894eade'), metadata=MetadataReturn(creation_time=None, last_update_time=None, distance=None, certainty=None, score=0.6615138649940491, explain_score=None, is_consistent=None, rerank_score=None), properties={'hotel_name': 'Novotel Singapore On Stevens', 'chunk_id': '159802_Negative_0', 'review_score': 8.0, 'sentiment': 'Negative', 'chunk_text': 'Theres no vegan food for breakfast.'}, references={'hotel': <weaviate.collections.classes.internal._CrossReference object at 0x000002180B86D420>}, vector={}, collection='ReviewChunk'),\n",
       " Object(uuid=_WeaviateUUIDInt('b3f2ce28-af4f-41a4-ba01-1e2b9070e26b'), metadata=MetadataReturn(creation_time=None, last_update_time=None, distance=None, certainty=None, score=0.627342939376831, explain_score=None, is_consistent=None, rerank_score=None), properties={'hotel_name': 'The Clan Hotel Singapore by Far East Hospitality', 'chunk_id': '6506_Negative_0', 'review_score': 9.0, 'sentiment': 'Negative', 'chunk_text': 'perhaps bit more vegan options for the breakfast'}, references={'hotel': <weaviate.collections.classes.internal._CrossReference object at 0x000002180B86E050>}, vector={}, collection='ReviewChunk')]"
      ]
     },
     "execution_count": 7,
     "metadata": {},
     "output_type": "execute_result"
    }
   ],
   "source": [
    "from sentence_transformers import SentenceTransformer\n",
    "\n",
    "# Load your model\n",
    "model = SentenceTransformer(\"all-MiniLM-L6-v2\")\n",
    "\n",
    "# Create vector for the query\n",
    "query_text = \"vegan\"\n",
    "query_vector = model.encode(query_text).tolist()\n",
    "\n",
    "review_collection = client.collections.get(\"ReviewChunk\")\n",
    "\n",
    "# Perform hybrid search with BYO vector\n",
    "results = review_collection.query.hybrid(\n",
    "    vector=query_vector,\n",
    "    query=query_text,        # still needed for BM25 part\n",
    "    alpha=0.5,               # 0 = pure BM25, 1 = pure vector\n",
    "    return_metadata=[\"score\"],\n",
    "    return_properties=[\"hotel_name\", \"chunk_id\", \"sentiment\", \"chunk_text\", \"review_score\"],\n",
    "    return_references=[\n",
    "        wvc.query.QueryReference(\n",
    "            link_on=\"Hotel\",\n",
    "            return_properties=[\"hotel_name\", \"current_price\", \"star_rating\", \"description\"]\n",
    "        )\n",
    "    ],\n",
    "    limit=10\n",
    ")\n",
    "\n",
    "results.objects"
   ]
  },
  {
   "cell_type": "code",
   "execution_count": 8,
   "metadata": {},
   "outputs": [
    {
     "name": "stdout",
     "output_type": "stream",
     "text": [
      "Review chunk: very few vegetarian or vegan options\n",
      "Sentiment: Negative\n",
      "Score: 9.0\n",
      "Hotel name: Marina Bay Sands\n",
      "Hotel star rating: 5.0\n",
      "--------------------------------------------------\n",
      "Review chunk: More vegan options in breakfast\n",
      "Sentiment: Negative\n",
      "Score: 10.0\n",
      "Hotel name: Hotel Faber Park Singapore - Handwritten Collection\n",
      "Hotel star rating: 4.0\n",
      "--------------------------------------------------\n",
      "Review chunk: Vegan and vegetarian food choices very little\n",
      "Sentiment: Negative\n",
      "Score: 10.0\n",
      "Hotel name: Marina Bay Sands\n",
      "Hotel star rating: 5.0\n",
      "--------------------------------------------------\n",
      "Review chunk: Very few vegan options in restaurant.\n",
      "Sentiment: Negative\n",
      "Score: 8.0\n",
      "Hotel name: Pan Pacific Singapore\n",
      "Hotel star rating: 5.0\n",
      "--------------------------------------------------\n",
      "Review chunk: Very few vegan options in restaurant.\n",
      "Sentiment: Negative\n",
      "Score: 8.0\n",
      "Hotel name: Pan Pacific Singapore\n",
      "Hotel star rating: 5.0\n",
      "--------------------------------------------------\n",
      "Review chunk: Not enough vegan options in the restaurants\n",
      "Sentiment: Negative\n",
      "Score: 10.0\n",
      "Hotel name: Shangri-La Singapore\n",
      "Hotel star rating: 5.0\n",
      "--------------------------------------------------\n",
      "Review chunk: Not enough vegan options in restaurants\n",
      "Sentiment: Negative\n",
      "Score: 10.0\n",
      "Hotel name: PARKROYAL COLLECTION Marina Bay, Singapore\n",
      "Hotel star rating: 5.0\n",
      "--------------------------------------------------\n",
      "Review chunk: little vegan options at breakfast\n",
      "Sentiment: Negative\n",
      "Score: 8.0\n",
      "Hotel name: Wyndham Singapore Hotel\n",
      "Hotel star rating: 5.0\n",
      "--------------------------------------------------\n",
      "Review chunk: Theres no vegan food for breakfast.\n",
      "Sentiment: Negative\n",
      "Score: 8.0\n",
      "Hotel name: Novotel Singapore On Stevens\n",
      "Hotel star rating: 4.0\n",
      "--------------------------------------------------\n",
      "Review chunk: perhaps bit more vegan options for the breakfast\n",
      "Sentiment: Negative\n",
      "Score: 9.0\n",
      "Hotel name: The Clan Hotel Singapore by Far East Hospitality\n",
      "Hotel star rating: 5.0\n",
      "--------------------------------------------------\n"
     ]
    }
   ],
   "source": [
    "# To access the objects attribute of the reference\n",
    "\n",
    "for obj in results.objects:\n",
    "    print(f\"Review chunk: {obj.properties.get('chunk_text')}\")\n",
    "    print(f\"Sentiment: {obj.properties.get('sentiment')}\")\n",
    "    print(f\"Score: {obj.properties.get('review_score')}\")\n",
    "\n",
    "    hotel_ref = obj.references.get(\"hotel\")  \n",
    "    \n",
    "    if hotel_ref and hotel_ref.objects:\n",
    "        hotel_name = hotel_ref.objects[0].properties.get(\"hotel_name\")\n",
    "        hotel_star_rating = hotel_ref.objects[0].properties.get(\"star_rating\")\n",
    "\n",
    "        print(\"Hotel name:\", hotel_name)\n",
    "        print(\"Hotel star rating:\", hotel_star_rating)\n",
    "    else:\n",
    "        print(\"No hotel reference found.\")\n",
    "    \n",
    "    print(\"-\" * 50)\n",
    "\n"
   ]
  },
  {
   "cell_type": "code",
   "execution_count": null,
   "metadata": {},
   "outputs": [],
   "source": []
  },
  {
   "cell_type": "code",
   "execution_count": null,
   "metadata": {},
   "outputs": [],
   "source": []
  },
  {
   "cell_type": "code",
   "execution_count": null,
   "metadata": {},
   "outputs": [],
   "source": []
  }
 ],
 "metadata": {
  "kernelspec": {
   "display_name": "base",
   "language": "python",
   "name": "python3"
  },
  "language_info": {
   "codemirror_mode": {
    "name": "ipython",
    "version": 3
   },
   "file_extension": ".py",
   "mimetype": "text/x-python",
   "name": "python",
   "nbconvert_exporter": "python",
   "pygments_lexer": "ipython3",
   "version": "3.10.9"
  }
 },
 "nbformat": 4,
 "nbformat_minor": 2
}
